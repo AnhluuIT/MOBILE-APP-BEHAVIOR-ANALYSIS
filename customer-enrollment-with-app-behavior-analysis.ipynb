{
 "cells": [
  {
   "cell_type": "code",
   "execution_count": 1,
   "id": "a2026945",
   "metadata": {
    "_cell_guid": "b1076dfc-b9ad-4769-8c92-a6c4dae69d19",
    "_uuid": "8f2839f25d086af736a60e9eeb907d3b93b6e0e5",
    "execution": {
     "iopub.execute_input": "2023-09-28T18:22:16.809402Z",
     "iopub.status.busy": "2023-09-28T18:22:16.809024Z",
     "iopub.status.idle": "2023-09-28T18:22:17.528129Z",
     "shell.execute_reply": "2023-09-28T18:22:17.527241Z"
    },
    "papermill": {
     "duration": 0.735727,
     "end_time": "2023-09-28T18:22:17.530509",
     "exception": false,
     "start_time": "2023-09-28T18:22:16.794782",
     "status": "completed"
    },
    "tags": []
   },
   "outputs": [
    {
     "name": "stdout",
     "output_type": "stream",
     "text": [
      "/kaggle/input/fintech-data/appdata10.csv\n",
      "/kaggle/input/fintech-data/top_screens.csv\n"
     ]
    }
   ],
   "source": [
    "# This Python 3 environment comes with many helpful analytics libraries installed\n",
    "# It is defined by the kaggle/python Docker image: https://github.com/kaggle/docker-python\n",
    "# For example, here's several helpful packages to load\n",
    "\n",
    "import numpy as np # linear algebra\n",
    "import pandas as pd # data processing, CSV file I/O (e.g. pd.read_csv)\n",
    "\n",
    "# Input data files are available in the read-only \"../input/\" directory\n",
    "# For example, running this (by clicking run or pressing Shift+Enter) will list all files under the input directory\n",
    "\n",
    "import os\n",
    "for dirname, _, filenames in os.walk('/kaggle/input'):\n",
    "    for filename in filenames:\n",
    "        print(os.path.join(dirname, filename))\n",
    "\n",
    "# You can write up to 20GB to the current directory (/kaggle/working/) that gets preserved as output when you create a version using \"Save & Run All\" \n",
    "# You can also write temporary files to /kaggle/temp/, but they won't be saved outside of the current session"
   ]
  },
  {
   "cell_type": "markdown",
   "id": "bc41df84",
   "metadata": {
    "papermill": {
     "duration": 0.011813,
     "end_time": "2023-09-28T18:22:17.554635",
     "exception": false,
     "start_time": "2023-09-28T18:22:17.542822",
     "status": "completed"
    },
    "tags": []
   },
   "source": [
    "# EDA"
   ]
  },
  {
   "cell_type": "code",
   "execution_count": 2,
   "id": "b86f7f52",
   "metadata": {
    "execution": {
     "iopub.execute_input": "2023-09-28T18:22:17.580534Z",
     "iopub.status.busy": "2023-09-28T18:22:17.579707Z",
     "iopub.status.idle": "2023-09-28T18:22:18.950093Z",
     "shell.execute_reply": "2023-09-28T18:22:18.949177Z"
    },
    "papermill": {
     "duration": 1.386488,
     "end_time": "2023-09-28T18:22:18.953158",
     "exception": false,
     "start_time": "2023-09-28T18:22:17.566670",
     "status": "completed"
    },
    "tags": []
   },
   "outputs": [
    {
     "name": "stderr",
     "output_type": "stream",
     "text": [
      "/opt/conda/lib/python3.10/site-packages/scipy/__init__.py:146: UserWarning: A NumPy version >=1.16.5 and <1.23.0 is required for this version of SciPy (detected version 1.23.5\n",
      "  warnings.warn(f\"A NumPy version >={np_minversion} and <{np_maxversion}\"\n"
     ]
    }
   ],
   "source": [
    "import pandas as pd\n",
    "from dateutil import parser\n",
    "import matplotlib.pyplot as plt\n",
    "import numpy as np\n",
    "import seaborn as sn\n",
    "import time\n",
    "import pickle"
   ]
  },
  {
   "cell_type": "code",
   "execution_count": 3,
   "id": "6f8effdf",
   "metadata": {
    "execution": {
     "iopub.execute_input": "2023-09-28T18:22:18.990981Z",
     "iopub.status.busy": "2023-09-28T18:22:18.990621Z",
     "iopub.status.idle": "2023-09-28T18:22:18.995128Z",
     "shell.execute_reply": "2023-09-28T18:22:18.994326Z"
    },
    "papermill": {
     "duration": 0.027658,
     "end_time": "2023-09-28T18:22:18.999260",
     "exception": false,
     "start_time": "2023-09-28T18:22:18.971602",
     "status": "completed"
    },
    "tags": []
   },
   "outputs": [],
   "source": [
    "pd.set_option('display.max_columns', 12)\n",
    "pd.set_option('display.width', 1000)"
   ]
  },
  {
   "cell_type": "code",
   "execution_count": 4,
   "id": "e54fce65",
   "metadata": {
    "execution": {
     "iopub.execute_input": "2023-09-28T18:22:19.035013Z",
     "iopub.status.busy": "2023-09-28T18:22:19.034673Z",
     "iopub.status.idle": "2023-09-28T18:22:19.456305Z",
     "shell.execute_reply": "2023-09-28T18:22:19.455107Z"
    },
    "papermill": {
     "duration": 0.442352,
     "end_time": "2023-09-28T18:22:19.458853",
     "exception": false,
     "start_time": "2023-09-28T18:22:19.016501",
     "status": "completed"
    },
    "tags": []
   },
   "outputs": [
    {
     "data": {
      "text/html": [
       "<div>\n",
       "<style scoped>\n",
       "    .dataframe tbody tr th:only-of-type {\n",
       "        vertical-align: middle;\n",
       "    }\n",
       "\n",
       "    .dataframe tbody tr th {\n",
       "        vertical-align: top;\n",
       "    }\n",
       "\n",
       "    .dataframe thead th {\n",
       "        text-align: right;\n",
       "    }\n",
       "</style>\n",
       "<table border=\"1\" class=\"dataframe\">\n",
       "  <thead>\n",
       "    <tr style=\"text-align: right;\">\n",
       "      <th></th>\n",
       "      <th>user</th>\n",
       "      <th>first_open</th>\n",
       "      <th>dayofweek</th>\n",
       "      <th>hour</th>\n",
       "      <th>age</th>\n",
       "      <th>screen_list</th>\n",
       "      <th>numscreens</th>\n",
       "      <th>minigame</th>\n",
       "      <th>used_premium_feature</th>\n",
       "      <th>enrolled</th>\n",
       "      <th>enrolled_date</th>\n",
       "      <th>liked</th>\n",
       "    </tr>\n",
       "  </thead>\n",
       "  <tbody>\n",
       "    <tr>\n",
       "      <th>0</th>\n",
       "      <td>235136</td>\n",
       "      <td>2012-12-27 02:14:51.273</td>\n",
       "      <td>3</td>\n",
       "      <td>02:00:00</td>\n",
       "      <td>23</td>\n",
       "      <td>idscreen,joinscreen,Cycle,product_review,ScanP...</td>\n",
       "      <td>15</td>\n",
       "      <td>0</td>\n",
       "      <td>0</td>\n",
       "      <td>0</td>\n",
       "      <td>NaN</td>\n",
       "      <td>0</td>\n",
       "    </tr>\n",
       "    <tr>\n",
       "      <th>1</th>\n",
       "      <td>333588</td>\n",
       "      <td>2012-12-02 01:16:00.905</td>\n",
       "      <td>6</td>\n",
       "      <td>01:00:00</td>\n",
       "      <td>24</td>\n",
       "      <td>joinscreen,product_review,product_review2,Scan...</td>\n",
       "      <td>13</td>\n",
       "      <td>0</td>\n",
       "      <td>0</td>\n",
       "      <td>0</td>\n",
       "      <td>NaN</td>\n",
       "      <td>0</td>\n",
       "    </tr>\n",
       "    <tr>\n",
       "      <th>2</th>\n",
       "      <td>254414</td>\n",
       "      <td>2013-03-19 19:19:09.157</td>\n",
       "      <td>1</td>\n",
       "      <td>19:00:00</td>\n",
       "      <td>23</td>\n",
       "      <td>Splash,Cycle,Loan</td>\n",
       "      <td>3</td>\n",
       "      <td>0</td>\n",
       "      <td>1</td>\n",
       "      <td>0</td>\n",
       "      <td>NaN</td>\n",
       "      <td>1</td>\n",
       "    </tr>\n",
       "    <tr>\n",
       "      <th>3</th>\n",
       "      <td>234192</td>\n",
       "      <td>2013-07-05 16:08:46.354</td>\n",
       "      <td>4</td>\n",
       "      <td>16:00:00</td>\n",
       "      <td>28</td>\n",
       "      <td>product_review,Home,product_review,Loan3,Finan...</td>\n",
       "      <td>40</td>\n",
       "      <td>0</td>\n",
       "      <td>0</td>\n",
       "      <td>1</td>\n",
       "      <td>2013-07-05 16:11:49.513</td>\n",
       "      <td>0</td>\n",
       "    </tr>\n",
       "    <tr>\n",
       "      <th>4</th>\n",
       "      <td>51549</td>\n",
       "      <td>2013-02-26 18:50:48.661</td>\n",
       "      <td>1</td>\n",
       "      <td>18:00:00</td>\n",
       "      <td>31</td>\n",
       "      <td>idscreen,joinscreen,Cycle,Credit3Container,Sca...</td>\n",
       "      <td>32</td>\n",
       "      <td>0</td>\n",
       "      <td>0</td>\n",
       "      <td>1</td>\n",
       "      <td>2013-02-26 18:56:37.841</td>\n",
       "      <td>1</td>\n",
       "    </tr>\n",
       "  </tbody>\n",
       "</table>\n",
       "</div>"
      ],
      "text/plain": [
       "     user               first_open  dayofweek       hour  age                                        screen_list  numscreens  minigame  used_premium_feature  enrolled            enrolled_date  liked\n",
       "0  235136  2012-12-27 02:14:51.273          3   02:00:00   23  idscreen,joinscreen,Cycle,product_review,ScanP...          15         0                     0         0                      NaN      0\n",
       "1  333588  2012-12-02 01:16:00.905          6   01:00:00   24  joinscreen,product_review,product_review2,Scan...          13         0                     0         0                      NaN      0\n",
       "2  254414  2013-03-19 19:19:09.157          1   19:00:00   23                                  Splash,Cycle,Loan           3         0                     1         0                      NaN      1\n",
       "3  234192  2013-07-05 16:08:46.354          4   16:00:00   28  product_review,Home,product_review,Loan3,Finan...          40         0                     0         1  2013-07-05 16:11:49.513      0\n",
       "4   51549  2013-02-26 18:50:48.661          1   18:00:00   31  idscreen,joinscreen,Cycle,Credit3Container,Sca...          32         0                     0         1  2013-02-26 18:56:37.841      1"
      ]
     },
     "execution_count": 4,
     "metadata": {},
     "output_type": "execute_result"
    }
   ],
   "source": [
    "df = pd.read_csv('/kaggle/input/fintech-data/appdata10.csv')\n",
    "df.head()"
   ]
  },
  {
   "cell_type": "code",
   "execution_count": 5,
   "id": "70ef7c09",
   "metadata": {
    "execution": {
     "iopub.execute_input": "2023-09-28T18:22:19.488552Z",
     "iopub.status.busy": "2023-09-28T18:22:19.487746Z",
     "iopub.status.idle": "2023-09-28T18:22:19.532861Z",
     "shell.execute_reply": "2023-09-28T18:22:19.531737Z"
    },
    "papermill": {
     "duration": 0.062952,
     "end_time": "2023-09-28T18:22:19.535758",
     "exception": false,
     "start_time": "2023-09-28T18:22:19.472806",
     "status": "completed"
    },
    "tags": []
   },
   "outputs": [
    {
     "name": "stdout",
     "output_type": "stream",
     "text": [
      "<class 'pandas.core.frame.DataFrame'>\n",
      "RangeIndex: 50000 entries, 0 to 49999\n",
      "Data columns (total 12 columns):\n",
      " #   Column                Non-Null Count  Dtype \n",
      "---  ------                --------------  ----- \n",
      " 0   user                  50000 non-null  int64 \n",
      " 1   first_open            50000 non-null  object\n",
      " 2   dayofweek             50000 non-null  int64 \n",
      " 3   hour                  50000 non-null  object\n",
      " 4   age                   50000 non-null  int64 \n",
      " 5   screen_list           50000 non-null  object\n",
      " 6   numscreens            50000 non-null  int64 \n",
      " 7   minigame              50000 non-null  int64 \n",
      " 8   used_premium_feature  50000 non-null  int64 \n",
      " 9   enrolled              50000 non-null  int64 \n",
      " 10  enrolled_date         31074 non-null  object\n",
      " 11  liked                 50000 non-null  int64 \n",
      "dtypes: int64(8), object(4)\n",
      "memory usage: 4.6+ MB\n"
     ]
    }
   ],
   "source": [
    "df.info()"
   ]
  },
  {
   "cell_type": "code",
   "execution_count": 6,
   "id": "43c24ed6",
   "metadata": {
    "execution": {
     "iopub.execute_input": "2023-09-28T18:22:19.565032Z",
     "iopub.status.busy": "2023-09-28T18:22:19.564726Z",
     "iopub.status.idle": "2023-09-28T18:22:19.594064Z",
     "shell.execute_reply": "2023-09-28T18:22:19.593145Z"
    },
    "papermill": {
     "duration": 0.046587,
     "end_time": "2023-09-28T18:22:19.596174",
     "exception": false,
     "start_time": "2023-09-28T18:22:19.549587",
     "status": "completed"
    },
    "tags": []
   },
   "outputs": [
    {
     "data": {
      "text/plain": [
       "user                        0\n",
       "first_open                  0\n",
       "dayofweek                   0\n",
       "hour                        0\n",
       "age                         0\n",
       "screen_list                 0\n",
       "numscreens                  0\n",
       "minigame                    0\n",
       "used_premium_feature        0\n",
       "enrolled                    0\n",
       "enrolled_date           18926\n",
       "liked                       0\n",
       "dtype: int64"
      ]
     },
     "execution_count": 6,
     "metadata": {},
     "output_type": "execute_result"
    }
   ],
   "source": [
    "df.isna().sum()"
   ]
  },
  {
   "cell_type": "code",
   "execution_count": 7,
   "id": "5694d1fa",
   "metadata": {
    "execution": {
     "iopub.execute_input": "2023-09-28T18:22:19.625994Z",
     "iopub.status.busy": "2023-09-28T18:22:19.624454Z",
     "iopub.status.idle": "2023-09-28T18:22:19.662775Z",
     "shell.execute_reply": "2023-09-28T18:22:19.661796Z"
    },
    "papermill": {
     "duration": 0.055197,
     "end_time": "2023-09-28T18:22:19.665031",
     "exception": false,
     "start_time": "2023-09-28T18:22:19.609834",
     "status": "completed"
    },
    "tags": []
   },
   "outputs": [],
   "source": [
    "df[\"hour\"] = df.hour.str.slice(1, 3).astype(int)"
   ]
  },
  {
   "cell_type": "code",
   "execution_count": 8,
   "id": "c6f32601",
   "metadata": {
    "execution": {
     "iopub.execute_input": "2023-09-28T18:22:19.693307Z",
     "iopub.status.busy": "2023-09-28T18:22:19.692982Z",
     "iopub.status.idle": "2023-09-28T18:22:19.707635Z",
     "shell.execute_reply": "2023-09-28T18:22:19.706646Z"
    },
    "papermill": {
     "duration": 0.031395,
     "end_time": "2023-09-28T18:22:19.709851",
     "exception": false,
     "start_time": "2023-09-28T18:22:19.678456",
     "status": "completed"
    },
    "tags": []
   },
   "outputs": [
    {
     "data": {
      "text/html": [
       "<div>\n",
       "<style scoped>\n",
       "    .dataframe tbody tr th:only-of-type {\n",
       "        vertical-align: middle;\n",
       "    }\n",
       "\n",
       "    .dataframe tbody tr th {\n",
       "        vertical-align: top;\n",
       "    }\n",
       "\n",
       "    .dataframe thead th {\n",
       "        text-align: right;\n",
       "    }\n",
       "</style>\n",
       "<table border=\"1\" class=\"dataframe\">\n",
       "  <thead>\n",
       "    <tr style=\"text-align: right;\">\n",
       "      <th></th>\n",
       "      <th>user</th>\n",
       "      <th>first_open</th>\n",
       "      <th>dayofweek</th>\n",
       "      <th>hour</th>\n",
       "      <th>age</th>\n",
       "      <th>screen_list</th>\n",
       "      <th>numscreens</th>\n",
       "      <th>minigame</th>\n",
       "      <th>used_premium_feature</th>\n",
       "      <th>enrolled</th>\n",
       "      <th>enrolled_date</th>\n",
       "      <th>liked</th>\n",
       "    </tr>\n",
       "  </thead>\n",
       "  <tbody>\n",
       "    <tr>\n",
       "      <th>0</th>\n",
       "      <td>235136</td>\n",
       "      <td>2012-12-27 02:14:51.273</td>\n",
       "      <td>3</td>\n",
       "      <td>2</td>\n",
       "      <td>23</td>\n",
       "      <td>idscreen,joinscreen,Cycle,product_review,ScanP...</td>\n",
       "      <td>15</td>\n",
       "      <td>0</td>\n",
       "      <td>0</td>\n",
       "      <td>0</td>\n",
       "      <td>NaN</td>\n",
       "      <td>0</td>\n",
       "    </tr>\n",
       "    <tr>\n",
       "      <th>1</th>\n",
       "      <td>333588</td>\n",
       "      <td>2012-12-02 01:16:00.905</td>\n",
       "      <td>6</td>\n",
       "      <td>1</td>\n",
       "      <td>24</td>\n",
       "      <td>joinscreen,product_review,product_review2,Scan...</td>\n",
       "      <td>13</td>\n",
       "      <td>0</td>\n",
       "      <td>0</td>\n",
       "      <td>0</td>\n",
       "      <td>NaN</td>\n",
       "      <td>0</td>\n",
       "    </tr>\n",
       "    <tr>\n",
       "      <th>2</th>\n",
       "      <td>254414</td>\n",
       "      <td>2013-03-19 19:19:09.157</td>\n",
       "      <td>1</td>\n",
       "      <td>19</td>\n",
       "      <td>23</td>\n",
       "      <td>Splash,Cycle,Loan</td>\n",
       "      <td>3</td>\n",
       "      <td>0</td>\n",
       "      <td>1</td>\n",
       "      <td>0</td>\n",
       "      <td>NaN</td>\n",
       "      <td>1</td>\n",
       "    </tr>\n",
       "    <tr>\n",
       "      <th>3</th>\n",
       "      <td>234192</td>\n",
       "      <td>2013-07-05 16:08:46.354</td>\n",
       "      <td>4</td>\n",
       "      <td>16</td>\n",
       "      <td>28</td>\n",
       "      <td>product_review,Home,product_review,Loan3,Finan...</td>\n",
       "      <td>40</td>\n",
       "      <td>0</td>\n",
       "      <td>0</td>\n",
       "      <td>1</td>\n",
       "      <td>2013-07-05 16:11:49.513</td>\n",
       "      <td>0</td>\n",
       "    </tr>\n",
       "    <tr>\n",
       "      <th>4</th>\n",
       "      <td>51549</td>\n",
       "      <td>2013-02-26 18:50:48.661</td>\n",
       "      <td>1</td>\n",
       "      <td>18</td>\n",
       "      <td>31</td>\n",
       "      <td>idscreen,joinscreen,Cycle,Credit3Container,Sca...</td>\n",
       "      <td>32</td>\n",
       "      <td>0</td>\n",
       "      <td>0</td>\n",
       "      <td>1</td>\n",
       "      <td>2013-02-26 18:56:37.841</td>\n",
       "      <td>1</td>\n",
       "    </tr>\n",
       "  </tbody>\n",
       "</table>\n",
       "</div>"
      ],
      "text/plain": [
       "     user               first_open  dayofweek  hour  age                                        screen_list  numscreens  minigame  used_premium_feature  enrolled            enrolled_date  liked\n",
       "0  235136  2012-12-27 02:14:51.273          3     2   23  idscreen,joinscreen,Cycle,product_review,ScanP...          15         0                     0         0                      NaN      0\n",
       "1  333588  2012-12-02 01:16:00.905          6     1   24  joinscreen,product_review,product_review2,Scan...          13         0                     0         0                      NaN      0\n",
       "2  254414  2013-03-19 19:19:09.157          1    19   23                                  Splash,Cycle,Loan           3         0                     1         0                      NaN      1\n",
       "3  234192  2013-07-05 16:08:46.354          4    16   28  product_review,Home,product_review,Loan3,Finan...          40         0                     0         1  2013-07-05 16:11:49.513      0\n",
       "4   51549  2013-02-26 18:50:48.661          1    18   31  idscreen,joinscreen,Cycle,Credit3Container,Sca...          32         0                     0         1  2013-02-26 18:56:37.841      1"
      ]
     },
     "execution_count": 8,
     "metadata": {},
     "output_type": "execute_result"
    }
   ],
   "source": [
    "df.head()"
   ]
  },
  {
   "cell_type": "code",
   "execution_count": 9,
   "id": "d8e1e037",
   "metadata": {
    "execution": {
     "iopub.execute_input": "2023-09-28T18:22:19.741586Z",
     "iopub.status.busy": "2023-09-28T18:22:19.740066Z",
     "iopub.status.idle": "2023-09-28T18:22:19.761993Z",
     "shell.execute_reply": "2023-09-28T18:22:19.760741Z"
    },
    "papermill": {
     "duration": 0.039427,
     "end_time": "2023-09-28T18:22:19.764779",
     "exception": false,
     "start_time": "2023-09-28T18:22:19.725352",
     "status": "completed"
    },
    "tags": []
   },
   "outputs": [
    {
     "data": {
      "text/plain": [
       "(50000, 7)"
      ]
     },
     "execution_count": 9,
     "metadata": {},
     "output_type": "execute_result"
    }
   ],
   "source": [
    "df_2 = df.copy().drop(columns = ['user', 'screen_list', 'enrolled_date',\n",
    "                                           'first_open', 'enrolled'])\n",
    "df_2.shape"
   ]
  },
  {
   "cell_type": "code",
   "execution_count": 10,
   "id": "9dba1cc4",
   "metadata": {
    "execution": {
     "iopub.execute_input": "2023-09-28T18:22:19.795735Z",
     "iopub.status.busy": "2023-09-28T18:22:19.795427Z",
     "iopub.status.idle": "2023-09-28T18:22:22.604697Z",
     "shell.execute_reply": "2023-09-28T18:22:22.603743Z"
    },
    "papermill": {
     "duration": 2.828029,
     "end_time": "2023-09-28T18:22:22.607068",
     "exception": false,
     "start_time": "2023-09-28T18:22:19.779039",
     "status": "completed"
    },
    "tags": []
   },
   "outputs": [
    {
     "data": {
      "image/png": "[encoded data removed]",
      "text/plain": [
       "<Figure size 1500x600 with 7 Axes>"
      ]
     },
     "metadata": {},
     "output_type": "display_data"
    }
   ],
   "source": [
    "f = plt.figure(figsize=(15,6))\n",
    "f.suptitle('Histograms of Numerical Columns', fontsize=15)\n",
    "\n",
    "for i in range(1, df_2.shape[1] + 1):    \n",
    "    plt.subplot(2, 4, i)\n",
    "    #get current plot axes\n",
    "    f = plt.gca()\n",
    "#     f.axes.get_yaxis().set_visible(False)\n",
    "    #set column name as title\n",
    "    f.set_title(df_2.columns.values[i - 1])\n",
    "\n",
    "    vals = np.size(df_2.iloc[:, i - 1].unique())\n",
    "    \n",
    "    plt.hist(df_2.iloc[:, i - 1], bins=vals, color='#3F5D7D')\n",
    "plt.tight_layout(rect=[0, 0.03, 1, 0.95])\n",
    "plt.savefig('app_data_hist.jpg')"
   ]
  },
  {
   "cell_type": "code",
   "execution_count": 11,
   "id": "ce39a767",
   "metadata": {
    "execution": {
     "iopub.execute_input": "2023-09-28T18:22:22.636892Z",
     "iopub.status.busy": "2023-09-28T18:22:22.636549Z",
     "iopub.status.idle": "2023-09-28T18:22:23.027095Z",
     "shell.execute_reply": "2023-09-28T18:22:23.026139Z"
    },
    "papermill": {
     "duration": 0.407757,
     "end_time": "2023-09-28T18:22:23.029175",
     "exception": false,
     "start_time": "2023-09-28T18:22:22.621418",
     "status": "completed"
    },
    "tags": []
   },
   "outputs": [
    {
     "data": {
      "image/png": "[encoded data removed]",
      "text/plain": [
       "<Figure size 1200x700 with 1 Axes>"
      ]
     },
     "metadata": {},
     "output_type": "display_data"
    }
   ],
   "source": [
    "df_2.corrwith(df.enrolled).plot.bar(figsize=(12, 7),\n",
    "                  title = 'Correlation with Reposnse Variable',\n",
    "                  fontsize = 10, rot = 0,\n",
    "                  grid = True)\n",
    "plt.savefig('/kaggle/working/app_data_corr.jpg')"
   ]
  },
  {
   "cell_type": "code",
   "execution_count": 12,
   "id": "bfab6fc6",
   "metadata": {
    "execution": {
     "iopub.execute_input": "2023-09-28T18:22:23.103315Z",
     "iopub.status.busy": "2023-09-28T18:22:23.102937Z",
     "iopub.status.idle": "2023-09-28T18:22:23.661145Z",
     "shell.execute_reply": "2023-09-28T18:22:23.660268Z"
    },
    "papermill": {
     "duration": 0.576378,
     "end_time": "2023-09-28T18:22:23.663589",
     "exception": false,
     "start_time": "2023-09-28T18:22:23.087211",
     "status": "completed"
    },
    "tags": []
   },
   "outputs": [
    {
     "name": "stderr",
     "output_type": "stream",
     "text": [
      "/tmp/ipykernel_25/120959755.py:8: DeprecationWarning: `np.bool` is a deprecated alias for the builtin `bool`. To silence this warning, use `bool` by itself. Doing this will not modify any behavior and is safe. If you specifically wanted the numpy scalar type, use `np.bool_` here.\n",
      "Deprecated in NumPy 1.20; for more details and guidance: https://numpy.org/devdocs/release/1.20.0-notes.html#deprecations\n",
      "  mask = np.zeros_like(corr, dtype=np.bool) #return a zero array with same size as corr\n"
     ]
    },
    {
     "data": {
      "image/png": "[encoded data removed]",
      "text/plain": [
       "<Figure size 1200x800 with 2 Axes>"
      ]
     },
     "metadata": {},
     "output_type": "display_data"
    }
   ],
   "source": [
    "## Correlation Matrix\n",
    "sn.set(style=\"dark\", font_scale=1.5)\n",
    "\n",
    "# Compute the correlation matrix\n",
    "corr = df_2.corr()\n",
    "\n",
    "# Generate a mask for the upper triangle\n",
    "mask = np.zeros_like(corr, dtype=np.bool) #return a zero array with same size as corr\n",
    "#set upper triangle as 0\n",
    "mask[np.triu_indices_from(mask)] = True #Return the indices for the upper-triangle of arr\n",
    "\n",
    "# Set up the matplotlib figure\n",
    "f, ax = plt.subplots(figsize=(12, 8))\n",
    "f.suptitle(\"Correlation Matrix\", fontsize = 15)\n",
    "\n",
    "# Generate a custom diverging colormap\n",
    "cmap = sn.diverging_palette(220, 50, n=12, as_cmap=True)\n",
    "\n",
    "# Draw the heatmap with the mask and correct aspect ratio\n",
    "hmap = sn.heatmap(corr, mask=mask, cmap=cmap, vmax=.3, center=0,\n",
    "            square=True, linewidths=.5, cbar_kws={\"shrink\": .5})\n",
    "hmap.set_xticklabels(hmap.get_xticklabels(), rotation=15, horizontalalignment='right')\n",
    "plt.savefig('app_data_corr_matrix.jpg')"
   ]
  },
  {
   "cell_type": "code",
   "execution_count": 13,
   "id": "12711de4",
   "metadata": {
    "execution": {
     "iopub.execute_input": "2023-09-28T18:22:23.697263Z",
     "iopub.status.busy": "2023-09-28T18:22:23.695779Z",
     "iopub.status.idle": "2023-09-28T18:22:30.921210Z",
     "shell.execute_reply": "2023-09-28T18:22:30.920240Z"
    },
    "papermill": {
     "duration": 7.244605,
     "end_time": "2023-09-28T18:22:30.923758",
     "exception": false,
     "start_time": "2023-09-28T18:22:23.679153",
     "status": "completed"
    },
    "tags": []
   },
   "outputs": [],
   "source": [
    "df[\"first_open\"] = [parser.parse(row_date) for row_date in df[\"first_open\"]]\n",
    "\n",
    "df[\"enrolled_date\"] = [parser.parse(row_date) if isinstance(row_date, str) else row_date for row_date in df[\"enrolled_date\"]]"
   ]
  },
  {
   "cell_type": "code",
   "execution_count": 14,
   "id": "d4f55a91",
   "metadata": {
    "execution": {
     "iopub.execute_input": "2023-09-28T18:22:30.956698Z",
     "iopub.status.busy": "2023-09-28T18:22:30.956391Z",
     "iopub.status.idle": "2023-09-28T18:22:30.964801Z",
     "shell.execute_reply": "2023-09-28T18:22:30.963907Z"
    },
    "papermill": {
     "duration": 0.027004,
     "end_time": "2023-09-28T18:22:30.966923",
     "exception": false,
     "start_time": "2023-09-28T18:22:30.939919",
     "status": "completed"
    },
    "tags": []
   },
   "outputs": [
    {
     "data": {
      "text/plain": [
       "user                             int64\n",
       "first_open              datetime64[ns]\n",
       "dayofweek                        int64\n",
       "hour                             int64\n",
       "age                              int64\n",
       "screen_list                     object\n",
       "numscreens                       int64\n",
       "minigame                         int64\n",
       "used_premium_feature             int64\n",
       "enrolled                         int64\n",
       "enrolled_date           datetime64[ns]\n",
       "liked                            int64\n",
       "dtype: object"
      ]
     },
     "execution_count": 14,
     "metadata": {},
     "output_type": "execute_result"
    }
   ],
   "source": [
    "df.dtypes"
   ]
  },
  {
   "cell_type": "code",
   "execution_count": 15,
   "id": "94389668",
   "metadata": {
    "execution": {
     "iopub.execute_input": "2023-09-28T18:22:30.999137Z",
     "iopub.status.busy": "2023-09-28T18:22:30.998859Z",
     "iopub.status.idle": "2023-09-28T18:22:31.030313Z",
     "shell.execute_reply": "2023-09-28T18:22:31.029412Z"
    },
    "papermill": {
     "duration": 0.050128,
     "end_time": "2023-09-28T18:22:31.032446",
     "exception": false,
     "start_time": "2023-09-28T18:22:30.982318",
     "status": "completed"
    },
    "tags": []
   },
   "outputs": [],
   "source": [
    "# Chuyển đổi thành timedelta theo đơn vị 's' và từ 's' sang 'h'\n",
    "df[\"difference\"] = ((pd.to_datetime(df.enrolled_date) - pd.to_datetime(df.first_open)).dt.total_seconds())/ 3600"
   ]
  },
  {
   "cell_type": "code",
   "execution_count": 16,
   "id": "9dd68cc4",
   "metadata": {
    "execution": {
     "iopub.execute_input": "2023-09-28T18:22:31.066308Z",
     "iopub.status.busy": "2023-09-28T18:22:31.065482Z",
     "iopub.status.idle": "2023-09-28T18:22:31.084392Z",
     "shell.execute_reply": "2023-09-28T18:22:31.083250Z"
    },
    "papermill": {
     "duration": 0.038226,
     "end_time": "2023-09-28T18:22:31.086935",
     "exception": false,
     "start_time": "2023-09-28T18:22:31.048709",
     "status": "completed"
    },
    "tags": []
   },
   "outputs": [
    {
     "data": {
      "text/html": [
       "<div>\n",
       "<style scoped>\n",
       "    .dataframe tbody tr th:only-of-type {\n",
       "        vertical-align: middle;\n",
       "    }\n",
       "\n",
       "    .dataframe tbody tr th {\n",
       "        vertical-align: top;\n",
       "    }\n",
       "\n",
       "    .dataframe thead th {\n",
       "        text-align: right;\n",
       "    }\n",
       "</style>\n",
       "<table border=\"1\" class=\"dataframe\">\n",
       "  <thead>\n",
       "    <tr style=\"text-align: right;\">\n",
       "      <th></th>\n",
       "      <th>user</th>\n",
       "      <th>first_open</th>\n",
       "      <th>dayofweek</th>\n",
       "      <th>hour</th>\n",
       "      <th>age</th>\n",
       "      <th>screen_list</th>\n",
       "      <th>...</th>\n",
       "      <th>minigame</th>\n",
       "      <th>used_premium_feature</th>\n",
       "      <th>enrolled</th>\n",
       "      <th>enrolled_date</th>\n",
       "      <th>liked</th>\n",
       "      <th>difference</th>\n",
       "    </tr>\n",
       "  </thead>\n",
       "  <tbody>\n",
       "    <tr>\n",
       "      <th>0</th>\n",
       "      <td>235136</td>\n",
       "      <td>2012-12-27 02:14:51.273</td>\n",
       "      <td>3</td>\n",
       "      <td>2</td>\n",
       "      <td>23</td>\n",
       "      <td>idscreen,joinscreen,Cycle,product_review,ScanP...</td>\n",
       "      <td>...</td>\n",
       "      <td>0</td>\n",
       "      <td>0</td>\n",
       "      <td>0</td>\n",
       "      <td>NaT</td>\n",
       "      <td>0</td>\n",
       "      <td>NaN</td>\n",
       "    </tr>\n",
       "    <tr>\n",
       "      <th>1</th>\n",
       "      <td>333588</td>\n",
       "      <td>2012-12-02 01:16:00.905</td>\n",
       "      <td>6</td>\n",
       "      <td>1</td>\n",
       "      <td>24</td>\n",
       "      <td>joinscreen,product_review,product_review2,Scan...</td>\n",
       "      <td>...</td>\n",
       "      <td>0</td>\n",
       "      <td>0</td>\n",
       "      <td>0</td>\n",
       "      <td>NaT</td>\n",
       "      <td>0</td>\n",
       "      <td>NaN</td>\n",
       "    </tr>\n",
       "    <tr>\n",
       "      <th>2</th>\n",
       "      <td>254414</td>\n",
       "      <td>2013-03-19 19:19:09.157</td>\n",
       "      <td>1</td>\n",
       "      <td>19</td>\n",
       "      <td>23</td>\n",
       "      <td>Splash,Cycle,Loan</td>\n",
       "      <td>...</td>\n",
       "      <td>0</td>\n",
       "      <td>1</td>\n",
       "      <td>0</td>\n",
       "      <td>NaT</td>\n",
       "      <td>1</td>\n",
       "      <td>NaN</td>\n",
       "    </tr>\n",
       "    <tr>\n",
       "      <th>3</th>\n",
       "      <td>234192</td>\n",
       "      <td>2013-07-05 16:08:46.354</td>\n",
       "      <td>4</td>\n",
       "      <td>16</td>\n",
       "      <td>28</td>\n",
       "      <td>product_review,Home,product_review,Loan3,Finan...</td>\n",
       "      <td>...</td>\n",
       "      <td>0</td>\n",
       "      <td>0</td>\n",
       "      <td>1</td>\n",
       "      <td>2013-07-05 16:11:49.513</td>\n",
       "      <td>0</td>\n",
       "      <td>0.050877</td>\n",
       "    </tr>\n",
       "    <tr>\n",
       "      <th>4</th>\n",
       "      <td>51549</td>\n",
       "      <td>2013-02-26 18:50:48.661</td>\n",
       "      <td>1</td>\n",
       "      <td>18</td>\n",
       "      <td>31</td>\n",
       "      <td>idscreen,joinscreen,Cycle,Credit3Container,Sca...</td>\n",
       "      <td>...</td>\n",
       "      <td>0</td>\n",
       "      <td>0</td>\n",
       "      <td>1</td>\n",
       "      <td>2013-02-26 18:56:37.841</td>\n",
       "      <td>1</td>\n",
       "      <td>0.096994</td>\n",
       "    </tr>\n",
       "    <tr>\n",
       "      <th>5</th>\n",
       "      <td>56480</td>\n",
       "      <td>2013-04-03 09:58:15.752</td>\n",
       "      <td>2</td>\n",
       "      <td>9</td>\n",
       "      <td>20</td>\n",
       "      <td>idscreen,Cycle,Home,ScanPreview,VerifyPhone,Ve...</td>\n",
       "      <td>...</td>\n",
       "      <td>0</td>\n",
       "      <td>0</td>\n",
       "      <td>1</td>\n",
       "      <td>2013-04-03 09:59:03.291</td>\n",
       "      <td>0</td>\n",
       "      <td>0.013205</td>\n",
       "    </tr>\n",
       "    <tr>\n",
       "      <th>6</th>\n",
       "      <td>144649</td>\n",
       "      <td>2012-12-25 02:33:18.461</td>\n",
       "      <td>1</td>\n",
       "      <td>2</td>\n",
       "      <td>35</td>\n",
       "      <td>product_review,product_review2,ScanPreview</td>\n",
       "      <td>...</td>\n",
       "      <td>0</td>\n",
       "      <td>0</td>\n",
       "      <td>0</td>\n",
       "      <td>NaT</td>\n",
       "      <td>0</td>\n",
       "      <td>NaN</td>\n",
       "    </tr>\n",
       "    <tr>\n",
       "      <th>7</th>\n",
       "      <td>249366</td>\n",
       "      <td>2012-12-11 03:07:49.875</td>\n",
       "      <td>1</td>\n",
       "      <td>3</td>\n",
       "      <td>26</td>\n",
       "      <td>Splash,Cycle,Home,Credit3Container,Credit3Dash...</td>\n",
       "      <td>...</td>\n",
       "      <td>0</td>\n",
       "      <td>1</td>\n",
       "      <td>0</td>\n",
       "      <td>NaT</td>\n",
       "      <td>0</td>\n",
       "      <td>NaN</td>\n",
       "    </tr>\n",
       "    <tr>\n",
       "      <th>8</th>\n",
       "      <td>372004</td>\n",
       "      <td>2013-03-20 14:22:01.569</td>\n",
       "      <td>2</td>\n",
       "      <td>14</td>\n",
       "      <td>29</td>\n",
       "      <td>product_review,product_review2,ScanPreview,Ver...</td>\n",
       "      <td>...</td>\n",
       "      <td>1</td>\n",
       "      <td>1</td>\n",
       "      <td>1</td>\n",
       "      <td>2013-04-27 22:24:54.542</td>\n",
       "      <td>0</td>\n",
       "      <td>920.048048</td>\n",
       "    </tr>\n",
       "    <tr>\n",
       "      <th>9</th>\n",
       "      <td>338013</td>\n",
       "      <td>2013-04-26 18:22:16.013</td>\n",
       "      <td>4</td>\n",
       "      <td>18</td>\n",
       "      <td>26</td>\n",
       "      <td>Home,Loan2,product_review,product_review,produ...</td>\n",
       "      <td>...</td>\n",
       "      <td>0</td>\n",
       "      <td>0</td>\n",
       "      <td>1</td>\n",
       "      <td>2013-04-26 18:31:58.923</td>\n",
       "      <td>0</td>\n",
       "      <td>0.161919</td>\n",
       "    </tr>\n",
       "  </tbody>\n",
       "</table>\n",
       "<p>10 rows × 13 columns</p>\n",
       "</div>"
      ],
      "text/plain": [
       "     user              first_open  dayofweek  hour  age                                        screen_list  ...  minigame  used_premium_feature  enrolled           enrolled_date liked  difference\n",
       "0  235136 2012-12-27 02:14:51.273          3     2   23  idscreen,joinscreen,Cycle,product_review,ScanP...  ...         0                     0         0                     NaT     0         NaN\n",
       "1  333588 2012-12-02 01:16:00.905          6     1   24  joinscreen,product_review,product_review2,Scan...  ...         0                     0         0                     NaT     0         NaN\n",
       "2  254414 2013-03-19 19:19:09.157          1    19   23                                  Splash,Cycle,Loan  ...         0                     1         0                     NaT     1         NaN\n",
       "3  234192 2013-07-05 16:08:46.354          4    16   28  product_review,Home,product_review,Loan3,Finan...  ...         0                     0         1 2013-07-05 16:11:49.513     0    0.050877\n",
       "4   51549 2013-02-26 18:50:48.661          1    18   31  idscreen,joinscreen,Cycle,Credit3Container,Sca...  ...         0                     0         1 2013-02-26 18:56:37.841     1    0.096994\n",
       "5   56480 2013-04-03 09:58:15.752          2     9   20  idscreen,Cycle,Home,ScanPreview,VerifyPhone,Ve...  ...         0                     0         1 2013-04-03 09:59:03.291     0    0.013205\n",
       "6  144649 2012-12-25 02:33:18.461          1     2   35         product_review,product_review2,ScanPreview  ...         0                     0         0                     NaT     0         NaN\n",
       "7  249366 2012-12-11 03:07:49.875          1     3   26  Splash,Cycle,Home,Credit3Container,Credit3Dash...  ...         0                     1         0                     NaT     0         NaN\n",
       "8  372004 2013-03-20 14:22:01.569          2    14   29  product_review,product_review2,ScanPreview,Ver...  ...         1                     1         1 2013-04-27 22:24:54.542     0  920.048048\n",
       "9  338013 2013-04-26 18:22:16.013          4    18   26  Home,Loan2,product_review,product_review,produ...  ...         0                     0         1 2013-04-26 18:31:58.923     0    0.161919\n",
       "\n",
       "[10 rows x 13 columns]"
      ]
     },
     "execution_count": 16,
     "metadata": {},
     "output_type": "execute_result"
    }
   ],
   "source": [
    "df.head(10)"
   ]
  },
  {
   "cell_type": "code",
   "execution_count": 17,
   "id": "882cd819",
   "metadata": {
    "execution": {
     "iopub.execute_input": "2023-09-28T18:22:31.121630Z",
     "iopub.status.busy": "2023-09-28T18:22:31.121023Z",
     "iopub.status.idle": "2023-09-28T18:22:31.449101Z",
     "shell.execute_reply": "2023-09-28T18:22:31.448172Z"
    },
    "papermill": {
     "duration": 0.347417,
     "end_time": "2023-09-28T18:22:31.451358",
     "exception": false,
     "start_time": "2023-09-28T18:22:31.103941",
     "status": "completed"
    },
    "tags": []
   },
   "outputs": [
    {
     "data": {
      "image/png": "[encoded data removed]",
      "text/plain": [
       "<Figure size 640x480 with 1 Axes>"
      ]
     },
     "metadata": {},
     "output_type": "display_data"
    }
   ],
   "source": [
    "response_hist = plt.hist(df[\"difference\"].dropna(), color='#3F5D7D')\n",
    "plt.title('Distribution of Time Difference between Installation and Enrollment')\n",
    "plt.show()"
   ]
  },
  {
   "cell_type": "code",
   "execution_count": 18,
   "id": "43f623b5",
   "metadata": {
    "execution": {
     "iopub.execute_input": "2023-09-28T18:22:31.486545Z",
     "iopub.status.busy": "2023-09-28T18:22:31.485719Z",
     "iopub.status.idle": "2023-09-28T18:22:31.794180Z",
     "shell.execute_reply": "2023-09-28T18:22:31.793141Z"
    },
    "papermill": {
     "duration": 0.328137,
     "end_time": "2023-09-28T18:22:31.796232",
     "exception": false,
     "start_time": "2023-09-28T18:22:31.468095",
     "status": "completed"
    },
    "tags": []
   },
   "outputs": [
    {
     "data": {
      "image/png": "[encoded data removed]",
      "text/plain": [
       "<Figure size 640x480 with 1 Axes>"
      ]
     },
     "metadata": {},
     "output_type": "display_data"
    }
   ],
   "source": [
    "response_hist = plt.hist(df[\"difference\"].dropna(), color='red', range = [0, 100])\n",
    "plt.title('Distribution of Time Difference (first 100 h)')\n",
    "plt.show()"
   ]
  },
  {
   "cell_type": "code",
   "execution_count": 19,
   "id": "5cf726d0",
   "metadata": {
    "execution": {
     "iopub.execute_input": "2023-09-28T18:22:31.832230Z",
     "iopub.status.busy": "2023-09-28T18:22:31.831417Z",
     "iopub.status.idle": "2023-09-28T18:22:31.841855Z",
     "shell.execute_reply": "2023-09-28T18:22:31.841007Z"
    },
    "papermill": {
     "duration": 0.030487,
     "end_time": "2023-09-28T18:22:31.844025",
     "exception": false,
     "start_time": "2023-09-28T18:22:31.813538",
     "status": "completed"
    },
    "tags": []
   },
   "outputs": [],
   "source": [
    "df.loc[df.difference > 48, 'enrolled'] = 0\n",
    "df = df.drop(columns=['enrolled_date', 'difference', 'first_open'])"
   ]
  },
  {
   "cell_type": "code",
   "execution_count": 20,
   "id": "6f5bb732",
   "metadata": {
    "execution": {
     "iopub.execute_input": "2023-09-28T18:22:31.879560Z",
     "iopub.status.busy": "2023-09-28T18:22:31.878746Z",
     "iopub.status.idle": "2023-09-28T18:22:31.890546Z",
     "shell.execute_reply": "2023-09-28T18:22:31.889607Z"
    },
    "papermill": {
     "duration": 0.031551,
     "end_time": "2023-09-28T18:22:31.892525",
     "exception": false,
     "start_time": "2023-09-28T18:22:31.860974",
     "status": "completed"
    },
    "tags": []
   },
   "outputs": [
    {
     "data": {
      "text/html": [
       "<div>\n",
       "<style scoped>\n",
       "    .dataframe tbody tr th:only-of-type {\n",
       "        vertical-align: middle;\n",
       "    }\n",
       "\n",
       "    .dataframe tbody tr th {\n",
       "        vertical-align: top;\n",
       "    }\n",
       "\n",
       "    .dataframe thead th {\n",
       "        text-align: right;\n",
       "    }\n",
       "</style>\n",
       "<table border=\"1\" class=\"dataframe\">\n",
       "  <thead>\n",
       "    <tr style=\"text-align: right;\">\n",
       "      <th></th>\n",
       "      <th>user</th>\n",
       "      <th>dayofweek</th>\n",
       "      <th>hour</th>\n",
       "      <th>age</th>\n",
       "      <th>screen_list</th>\n",
       "      <th>numscreens</th>\n",
       "      <th>minigame</th>\n",
       "      <th>used_premium_feature</th>\n",
       "      <th>enrolled</th>\n",
       "      <th>liked</th>\n",
       "    </tr>\n",
       "  </thead>\n",
       "  <tbody>\n",
       "    <tr>\n",
       "      <th>0</th>\n",
       "      <td>235136</td>\n",
       "      <td>3</td>\n",
       "      <td>2</td>\n",
       "      <td>23</td>\n",
       "      <td>idscreen,joinscreen,Cycle,product_review,ScanP...</td>\n",
       "      <td>15</td>\n",
       "      <td>0</td>\n",
       "      <td>0</td>\n",
       "      <td>0</td>\n",
       "      <td>0</td>\n",
       "    </tr>\n",
       "    <tr>\n",
       "      <th>1</th>\n",
       "      <td>333588</td>\n",
       "      <td>6</td>\n",
       "      <td>1</td>\n",
       "      <td>24</td>\n",
       "      <td>joinscreen,product_review,product_review2,Scan...</td>\n",
       "      <td>13</td>\n",
       "      <td>0</td>\n",
       "      <td>0</td>\n",
       "      <td>0</td>\n",
       "      <td>0</td>\n",
       "    </tr>\n",
       "    <tr>\n",
       "      <th>2</th>\n",
       "      <td>254414</td>\n",
       "      <td>1</td>\n",
       "      <td>19</td>\n",
       "      <td>23</td>\n",
       "      <td>Splash,Cycle,Loan</td>\n",
       "      <td>3</td>\n",
       "      <td>0</td>\n",
       "      <td>1</td>\n",
       "      <td>0</td>\n",
       "      <td>1</td>\n",
       "    </tr>\n",
       "  </tbody>\n",
       "</table>\n",
       "</div>"
      ],
      "text/plain": [
       "     user  dayofweek  hour  age                                        screen_list  numscreens  minigame  used_premium_feature  enrolled  liked\n",
       "0  235136          3     2   23  idscreen,joinscreen,Cycle,product_review,ScanP...          15         0                     0         0      0\n",
       "1  333588          6     1   24  joinscreen,product_review,product_review2,Scan...          13         0                     0         0      0\n",
       "2  254414          1    19   23                                  Splash,Cycle,Loan           3         0                     1         0      1"
      ]
     },
     "execution_count": 20,
     "metadata": {},
     "output_type": "execute_result"
    }
   ],
   "source": [
    "df.head(3)"
   ]
  },
  {
   "cell_type": "code",
   "execution_count": 21,
   "id": "cb3c6a38",
   "metadata": {
    "execution": {
     "iopub.execute_input": "2023-09-28T18:22:31.928388Z",
     "iopub.status.busy": "2023-09-28T18:22:31.927599Z",
     "iopub.status.idle": "2023-09-28T18:22:31.939888Z",
     "shell.execute_reply": "2023-09-28T18:22:31.938862Z"
    },
    "papermill": {
     "duration": 0.033135,
     "end_time": "2023-09-28T18:22:31.942611",
     "exception": false,
     "start_time": "2023-09-28T18:22:31.909476",
     "status": "completed"
    },
    "tags": []
   },
   "outputs": [
    {
     "data": {
      "text/plain": [
       "array(['Loan2', 'location', 'Institutions', 'Credit3Container',\n",
       "       'VerifyPhone', 'BankVerification', 'VerifyDateOfBirth',\n",
       "       'ProfilePage', 'VerifyCountry', 'Cycle', 'idscreen',\n",
       "       'Credit3Dashboard', 'Loan3', 'CC1Category', 'Splash', 'Loan',\n",
       "       'CC1', 'RewardsContainer', 'Credit3', 'Credit1', 'EditProfile',\n",
       "       'Credit2', 'Finances', 'CC3', 'Saving9', 'Saving1', 'Alerts',\n",
       "       'Saving8', 'Saving10', 'Leaderboard', 'Saving4', 'VerifyMobile',\n",
       "       'VerifyHousing', 'RewardDetail', 'VerifyHousingAmount',\n",
       "       'ProfileMaritalStatus', 'ProfileChildren ', 'ProfileEducation',\n",
       "       'Saving7', 'ProfileEducationMajor', 'Rewards', 'AccountView',\n",
       "       'VerifyAnnualIncome', 'VerifyIncomeType', 'Saving2', 'Saving6',\n",
       "       'Saving2Amount', 'Saving5', 'ProfileJobTitle', 'Login',\n",
       "       'ProfileEmploymentLength', 'WebView', 'SecurityModal', 'Loan4',\n",
       "       'ResendToken', 'TransactionList', 'NetworkFailure', 'ListPicker'],\n",
       "      dtype=object)"
      ]
     },
     "execution_count": 21,
     "metadata": {},
     "output_type": "execute_result"
    }
   ],
   "source": [
    "df_screen = pd.read_csv(\"/kaggle/input/fintech-data/top_screens.csv\").top_screens.values\n",
    "df_screen"
   ]
  },
  {
   "cell_type": "code",
   "execution_count": 22,
   "id": "329cae13",
   "metadata": {
    "execution": {
     "iopub.execute_input": "2023-09-28T18:22:31.978171Z",
     "iopub.status.busy": "2023-09-28T18:22:31.977894Z",
     "iopub.status.idle": "2023-09-28T18:22:35.827795Z",
     "shell.execute_reply": "2023-09-28T18:22:35.826801Z"
    },
    "papermill": {
     "duration": 3.870363,
     "end_time": "2023-09-28T18:22:35.830179",
     "exception": false,
     "start_time": "2023-09-28T18:22:31.959816",
     "status": "completed"
    },
    "tags": []
   },
   "outputs": [],
   "source": [
    "# Mapping Screens to Fields\n",
    "df[\"screen_list\"] = df.screen_list.astype(str) + ','\n",
    "for sc in df_screen:\n",
    "    df[sc] = df.screen_list.str.contains(sc).astype(int)\n",
    "    df['screen_list'] = df.screen_list.str.replace(sc+\",\", \"\")"
   ]
  },
  {
   "cell_type": "code",
   "execution_count": 23,
   "id": "1e087b0f",
   "metadata": {
    "execution": {
     "iopub.execute_input": "2023-09-28T18:22:35.866749Z",
     "iopub.status.busy": "2023-09-28T18:22:35.866436Z",
     "iopub.status.idle": "2023-09-28T18:22:35.893777Z",
     "shell.execute_reply": "2023-09-28T18:22:35.892736Z"
    },
    "papermill": {
     "duration": 0.048501,
     "end_time": "2023-09-28T18:22:35.896438",
     "exception": false,
     "start_time": "2023-09-28T18:22:35.847937",
     "status": "completed"
    },
    "tags": []
   },
   "outputs": [
    {
     "data": {
      "text/html": [
       "<div>\n",
       "<style scoped>\n",
       "    .dataframe tbody tr th:only-of-type {\n",
       "        vertical-align: middle;\n",
       "    }\n",
       "\n",
       "    .dataframe tbody tr th {\n",
       "        vertical-align: top;\n",
       "    }\n",
       "\n",
       "    .dataframe thead th {\n",
       "        text-align: right;\n",
       "    }\n",
       "</style>\n",
       "<table border=\"1\" class=\"dataframe\">\n",
       "  <thead>\n",
       "    <tr style=\"text-align: right;\">\n",
       "      <th></th>\n",
       "      <th>user</th>\n",
       "      <th>dayofweek</th>\n",
       "      <th>hour</th>\n",
       "      <th>age</th>\n",
       "      <th>screen_list</th>\n",
       "      <th>numscreens</th>\n",
       "      <th>...</th>\n",
       "      <th>SecurityModal</th>\n",
       "      <th>Loan4</th>\n",
       "      <th>ResendToken</th>\n",
       "      <th>TransactionList</th>\n",
       "      <th>NetworkFailure</th>\n",
       "      <th>ListPicker</th>\n",
       "    </tr>\n",
       "  </thead>\n",
       "  <tbody>\n",
       "    <tr>\n",
       "      <th>0</th>\n",
       "      <td>235136</td>\n",
       "      <td>3</td>\n",
       "      <td>2</td>\n",
       "      <td>23</td>\n",
       "      <td>joinscreen,product_review,ScanPreview,VerifyTo...</td>\n",
       "      <td>15</td>\n",
       "      <td>...</td>\n",
       "      <td>0</td>\n",
       "      <td>0</td>\n",
       "      <td>0</td>\n",
       "      <td>0</td>\n",
       "      <td>0</td>\n",
       "      <td>0</td>\n",
       "    </tr>\n",
       "    <tr>\n",
       "      <th>1</th>\n",
       "      <td>333588</td>\n",
       "      <td>6</td>\n",
       "      <td>1</td>\n",
       "      <td>24</td>\n",
       "      <td>joinscreen,product_review,product_review2,Scan...</td>\n",
       "      <td>13</td>\n",
       "      <td>...</td>\n",
       "      <td>0</td>\n",
       "      <td>0</td>\n",
       "      <td>0</td>\n",
       "      <td>0</td>\n",
       "      <td>0</td>\n",
       "      <td>0</td>\n",
       "    </tr>\n",
       "    <tr>\n",
       "      <th>2</th>\n",
       "      <td>254414</td>\n",
       "      <td>1</td>\n",
       "      <td>19</td>\n",
       "      <td>23</td>\n",
       "      <td></td>\n",
       "      <td>3</td>\n",
       "      <td>...</td>\n",
       "      <td>0</td>\n",
       "      <td>0</td>\n",
       "      <td>0</td>\n",
       "      <td>0</td>\n",
       "      <td>0</td>\n",
       "      <td>0</td>\n",
       "    </tr>\n",
       "    <tr>\n",
       "      <th>3</th>\n",
       "      <td>234192</td>\n",
       "      <td>4</td>\n",
       "      <td>16</td>\n",
       "      <td>28</td>\n",
       "      <td>product_review,Home,product_review,ReferralCon...</td>\n",
       "      <td>40</td>\n",
       "      <td>...</td>\n",
       "      <td>0</td>\n",
       "      <td>0</td>\n",
       "      <td>0</td>\n",
       "      <td>0</td>\n",
       "      <td>0</td>\n",
       "      <td>0</td>\n",
       "    </tr>\n",
       "    <tr>\n",
       "      <th>4</th>\n",
       "      <td>51549</td>\n",
       "      <td>1</td>\n",
       "      <td>18</td>\n",
       "      <td>31</td>\n",
       "      <td>joinscreen,ScanPreview,VerifySSN,Home,SelectIn...</td>\n",
       "      <td>32</td>\n",
       "      <td>...</td>\n",
       "      <td>0</td>\n",
       "      <td>0</td>\n",
       "      <td>0</td>\n",
       "      <td>0</td>\n",
       "      <td>0</td>\n",
       "      <td>0</td>\n",
       "    </tr>\n",
       "  </tbody>\n",
       "</table>\n",
       "<p>5 rows × 68 columns</p>\n",
       "</div>"
      ],
      "text/plain": [
       "     user  dayofweek  hour  age                                        screen_list  numscreens  ...  SecurityModal  Loan4  ResendToken  TransactionList  NetworkFailure  ListPicker\n",
       "0  235136          3     2   23  joinscreen,product_review,ScanPreview,VerifyTo...          15  ...              0      0            0                0               0           0\n",
       "1  333588          6     1   24  joinscreen,product_review,product_review2,Scan...          13  ...              0      0            0                0               0           0\n",
       "2  254414          1    19   23                                                              3  ...              0      0            0                0               0           0\n",
       "3  234192          4    16   28  product_review,Home,product_review,ReferralCon...          40  ...              0      0            0                0               0           0\n",
       "4   51549          1    18   31  joinscreen,ScanPreview,VerifySSN,Home,SelectIn...          32  ...              0      0            0                0               0           0\n",
       "\n",
       "[5 rows x 68 columns]"
      ]
     },
     "execution_count": 23,
     "metadata": {},
     "output_type": "execute_result"
    }
   ],
   "source": [
    "df.head()"
   ]
  },
  {
   "cell_type": "code",
   "execution_count": 24,
   "id": "56f2213d",
   "metadata": {
    "execution": {
     "iopub.execute_input": "2023-09-28T18:22:35.933997Z",
     "iopub.status.busy": "2023-09-28T18:22:35.933088Z",
     "iopub.status.idle": "2023-09-28T18:22:36.032262Z",
     "shell.execute_reply": "2023-09-28T18:22:36.031407Z"
    },
    "papermill": {
     "duration": 0.120321,
     "end_time": "2023-09-28T18:22:36.034824",
     "exception": false,
     "start_time": "2023-09-28T18:22:35.914503",
     "status": "completed"
    },
    "tags": []
   },
   "outputs": [],
   "source": [
    "df['Other'] = df.screen_list.str.count(\",\")\n",
    "df = df.drop(columns=['screen_list'])"
   ]
  },
  {
   "cell_type": "code",
   "execution_count": 25,
   "id": "066f691f",
   "metadata": {
    "execution": {
     "iopub.execute_input": "2023-09-28T18:22:36.076940Z",
     "iopub.status.busy": "2023-09-28T18:22:36.076609Z",
     "iopub.status.idle": "2023-09-28T18:22:36.082668Z",
     "shell.execute_reply": "2023-09-28T18:22:36.081815Z"
    },
    "papermill": {
     "duration": 0.029675,
     "end_time": "2023-09-28T18:22:36.084698",
     "exception": false,
     "start_time": "2023-09-28T18:22:36.055023",
     "status": "completed"
    },
    "tags": []
   },
   "outputs": [
    {
     "data": {
      "text/plain": [
       "(50000, 68)"
      ]
     },
     "execution_count": 25,
     "metadata": {},
     "output_type": "execute_result"
    }
   ],
   "source": [
    "df.shape"
   ]
  },
  {
   "cell_type": "code",
   "execution_count": 26,
   "id": "f60e6225",
   "metadata": {
    "execution": {
     "iopub.execute_input": "2023-09-28T18:22:36.123212Z",
     "iopub.status.busy": "2023-09-28T18:22:36.122892Z",
     "iopub.status.idle": "2023-09-28T18:22:36.254336Z",
     "shell.execute_reply": "2023-09-28T18:22:36.253287Z"
    },
    "papermill": {
     "duration": 0.153231,
     "end_time": "2023-09-28T18:22:36.256731",
     "exception": false,
     "start_time": "2023-09-28T18:22:36.103500",
     "status": "completed"
    },
    "tags": []
   },
   "outputs": [],
   "source": [
    "savings_screens = [\"Saving1\",\n",
    "                    \"Saving2\",\n",
    "                    \"Saving2Amount\",\n",
    "                    \"Saving4\",\n",
    "                    \"Saving5\",\n",
    "                    \"Saving6\",\n",
    "                    \"Saving7\",\n",
    "                    \"Saving8\",\n",
    "                    \"Saving9\",\n",
    "                    \"Saving10\"]\n",
    "df[\"SavingCount\"] = df[savings_screens].sum(axis=1)\n",
    "df = df.drop(columns=savings_screens)"
   ]
  },
  {
   "cell_type": "code",
   "execution_count": 27,
   "id": "e39cd16e",
   "metadata": {
    "execution": {
     "iopub.execute_input": "2023-09-28T18:22:36.294113Z",
     "iopub.status.busy": "2023-09-28T18:22:36.293787Z",
     "iopub.status.idle": "2023-09-28T18:22:36.322726Z",
     "shell.execute_reply": "2023-09-28T18:22:36.321859Z"
    },
    "papermill": {
     "duration": 0.050024,
     "end_time": "2023-09-28T18:22:36.324932",
     "exception": false,
     "start_time": "2023-09-28T18:22:36.274908",
     "status": "completed"
    },
    "tags": []
   },
   "outputs": [],
   "source": [
    "cm_screens = [\"Credit1\",\n",
    "               \"Credit2\",\n",
    "               \"Credit3\",\n",
    "               \"Credit3Container\",\n",
    "               \"Credit3Dashboard\"]\n",
    "df[\"CMCount\"] = df[cm_screens].sum(axis=1)\n",
    "df = df.drop(columns=cm_screens)"
   ]
  },
  {
   "cell_type": "code",
   "execution_count": 28,
   "id": "ef4a2ff8",
   "metadata": {
    "execution": {
     "iopub.execute_input": "2023-09-28T18:22:36.362282Z",
     "iopub.status.busy": "2023-09-28T18:22:36.361574Z",
     "iopub.status.idle": "2023-09-28T18:22:36.395961Z",
     "shell.execute_reply": "2023-09-28T18:22:36.394887Z"
    },
    "papermill": {
     "duration": 0.056043,
     "end_time": "2023-09-28T18:22:36.398877",
     "exception": false,
     "start_time": "2023-09-28T18:22:36.342834",
     "status": "completed"
    },
    "tags": []
   },
   "outputs": [],
   "source": [
    "loan_screens = [\"Loan\",\n",
    "               \"Loan2\",\n",
    "               \"Loan3\",\n",
    "               \"Loan4\"]\n",
    "df[\"LoansCount\"] = df[loan_screens].sum(axis=1)\n",
    "df = df.drop(columns=loan_screens)"
   ]
  },
  {
   "cell_type": "code",
   "execution_count": 29,
   "id": "bd22788e",
   "metadata": {
    "execution": {
     "iopub.execute_input": "2023-09-28T18:22:36.436976Z",
     "iopub.status.busy": "2023-09-28T18:22:36.436656Z",
     "iopub.status.idle": "2023-09-28T18:22:36.451990Z",
     "shell.execute_reply": "2023-09-28T18:22:36.451044Z"
    },
    "papermill": {
     "duration": 0.036266,
     "end_time": "2023-09-28T18:22:36.454015",
     "exception": false,
     "start_time": "2023-09-28T18:22:36.417749",
     "status": "completed"
    },
    "tags": []
   },
   "outputs": [
    {
     "data": {
      "text/html": [
       "<div>\n",
       "<style scoped>\n",
       "    .dataframe tbody tr th:only-of-type {\n",
       "        vertical-align: middle;\n",
       "    }\n",
       "\n",
       "    .dataframe tbody tr th {\n",
       "        vertical-align: top;\n",
       "    }\n",
       "\n",
       "    .dataframe thead th {\n",
       "        text-align: right;\n",
       "    }\n",
       "</style>\n",
       "<table border=\"1\" class=\"dataframe\">\n",
       "  <thead>\n",
       "    <tr style=\"text-align: right;\">\n",
       "      <th></th>\n",
       "      <th>user</th>\n",
       "      <th>dayofweek</th>\n",
       "      <th>hour</th>\n",
       "      <th>age</th>\n",
       "      <th>numscreens</th>\n",
       "      <th>minigame</th>\n",
       "      <th>...</th>\n",
       "      <th>NetworkFailure</th>\n",
       "      <th>ListPicker</th>\n",
       "      <th>Other</th>\n",
       "      <th>SavingCount</th>\n",
       "      <th>CMCount</th>\n",
       "      <th>LoansCount</th>\n",
       "    </tr>\n",
       "  </thead>\n",
       "  <tbody>\n",
       "    <tr>\n",
       "      <th>0</th>\n",
       "      <td>235136</td>\n",
       "      <td>3</td>\n",
       "      <td>2</td>\n",
       "      <td>23</td>\n",
       "      <td>15</td>\n",
       "      <td>0</td>\n",
       "      <td>...</td>\n",
       "      <td>0</td>\n",
       "      <td>0</td>\n",
       "      <td>7</td>\n",
       "      <td>0</td>\n",
       "      <td>0</td>\n",
       "      <td>1</td>\n",
       "    </tr>\n",
       "    <tr>\n",
       "      <th>1</th>\n",
       "      <td>333588</td>\n",
       "      <td>6</td>\n",
       "      <td>1</td>\n",
       "      <td>24</td>\n",
       "      <td>13</td>\n",
       "      <td>0</td>\n",
       "      <td>...</td>\n",
       "      <td>0</td>\n",
       "      <td>0</td>\n",
       "      <td>5</td>\n",
       "      <td>0</td>\n",
       "      <td>0</td>\n",
       "      <td>1</td>\n",
       "    </tr>\n",
       "    <tr>\n",
       "      <th>2</th>\n",
       "      <td>254414</td>\n",
       "      <td>1</td>\n",
       "      <td>19</td>\n",
       "      <td>23</td>\n",
       "      <td>3</td>\n",
       "      <td>0</td>\n",
       "      <td>...</td>\n",
       "      <td>0</td>\n",
       "      <td>0</td>\n",
       "      <td>0</td>\n",
       "      <td>0</td>\n",
       "      <td>0</td>\n",
       "      <td>1</td>\n",
       "    </tr>\n",
       "    <tr>\n",
       "      <th>3</th>\n",
       "      <td>234192</td>\n",
       "      <td>4</td>\n",
       "      <td>16</td>\n",
       "      <td>28</td>\n",
       "      <td>40</td>\n",
       "      <td>0</td>\n",
       "      <td>...</td>\n",
       "      <td>0</td>\n",
       "      <td>0</td>\n",
       "      <td>6</td>\n",
       "      <td>0</td>\n",
       "      <td>3</td>\n",
       "      <td>1</td>\n",
       "    </tr>\n",
       "    <tr>\n",
       "      <th>4</th>\n",
       "      <td>51549</td>\n",
       "      <td>1</td>\n",
       "      <td>18</td>\n",
       "      <td>31</td>\n",
       "      <td>32</td>\n",
       "      <td>0</td>\n",
       "      <td>...</td>\n",
       "      <td>0</td>\n",
       "      <td>0</td>\n",
       "      <td>10</td>\n",
       "      <td>0</td>\n",
       "      <td>2</td>\n",
       "      <td>1</td>\n",
       "    </tr>\n",
       "  </tbody>\n",
       "</table>\n",
       "<p>5 rows × 52 columns</p>\n",
       "</div>"
      ],
      "text/plain": [
       "     user  dayofweek  hour  age  numscreens  minigame  ...  NetworkFailure  ListPicker  Other  SavingCount  CMCount  LoansCount\n",
       "0  235136          3     2   23          15         0  ...               0           0      7            0        0           1\n",
       "1  333588          6     1   24          13         0  ...               0           0      5            0        0           1\n",
       "2  254414          1    19   23           3         0  ...               0           0      0            0        0           1\n",
       "3  234192          4    16   28          40         0  ...               0           0      6            0        3           1\n",
       "4   51549          1    18   31          32         0  ...               0           0     10            0        2           1\n",
       "\n",
       "[5 rows x 52 columns]"
      ]
     },
     "execution_count": 29,
     "metadata": {},
     "output_type": "execute_result"
    }
   ],
   "source": [
    "df.head()"
   ]
  },
  {
   "cell_type": "code",
   "execution_count": 30,
   "id": "f38da814",
   "metadata": {
    "execution": {
     "iopub.execute_input": "2023-09-28T18:22:36.492555Z",
     "iopub.status.busy": "2023-09-28T18:22:36.491595Z",
     "iopub.status.idle": "2023-09-28T18:22:36.498620Z",
     "shell.execute_reply": "2023-09-28T18:22:36.497640Z"
    },
    "papermill": {
     "duration": 0.028592,
     "end_time": "2023-09-28T18:22:36.500683",
     "exception": false,
     "start_time": "2023-09-28T18:22:36.472091",
     "status": "completed"
    },
    "tags": []
   },
   "outputs": [
    {
     "data": {
      "text/plain": [
       "Index(['user', 'dayofweek', 'hour', 'age', 'numscreens', 'minigame', 'used_premium_feature', 'enrolled', 'liked', 'location', 'Institutions', 'VerifyPhone', 'BankVerification', 'VerifyDateOfBirth', 'ProfilePage', 'VerifyCountry', 'Cycle', 'idscreen', 'CC1Category', 'Splash', 'CC1', 'RewardsContainer', 'EditProfile', 'Finances', 'CC3', 'Alerts', 'Leaderboard', 'VerifyMobile', 'VerifyHousing', 'RewardDetail', 'VerifyHousingAmount', 'ProfileMaritalStatus', 'ProfileChildren ', 'ProfileEducation', 'ProfileEducationMajor', 'Rewards', 'AccountView', 'VerifyAnnualIncome', 'VerifyIncomeType', 'ProfileJobTitle', 'Login', 'ProfileEmploymentLength', 'WebView', 'SecurityModal', 'ResendToken', 'TransactionList', 'NetworkFailure', 'ListPicker', 'Other', 'SavingCount', 'CMCount', 'LoansCount'], dtype='object')"
      ]
     },
     "execution_count": 30,
     "metadata": {},
     "output_type": "execute_result"
    }
   ],
   "source": [
    "df.columns"
   ]
  },
  {
   "cell_type": "code",
   "execution_count": 31,
   "id": "77a0ef4a",
   "metadata": {
    "execution": {
     "iopub.execute_input": "2023-09-28T18:22:36.538644Z",
     "iopub.status.busy": "2023-09-28T18:22:36.538022Z",
     "iopub.status.idle": "2023-09-28T18:22:37.179734Z",
     "shell.execute_reply": "2023-09-28T18:22:37.178762Z"
    },
    "papermill": {
     "duration": 0.663654,
     "end_time": "2023-09-28T18:22:37.182369",
     "exception": false,
     "start_time": "2023-09-28T18:22:36.518715",
     "status": "completed"
    },
    "tags": []
   },
   "outputs": [],
   "source": [
    "df.to_csv('/kaggle/working/new_appdata10.csv', index = False)"
   ]
  },
  {
   "cell_type": "markdown",
   "id": "06d344d6",
   "metadata": {
    "papermill": {
     "duration": 0.017894,
     "end_time": "2023-09-28T18:22:37.218874",
     "exception": false,
     "start_time": "2023-09-28T18:22:37.200980",
     "status": "completed"
    },
    "tags": []
   },
   "source": [
    "# Training model"
   ]
  },
  {
   "cell_type": "code",
   "execution_count": 32,
   "id": "54d5e2c1",
   "metadata": {
    "execution": {
     "iopub.execute_input": "2023-09-28T18:22:37.257637Z",
     "iopub.status.busy": "2023-09-28T18:22:37.257010Z",
     "iopub.status.idle": "2023-09-28T18:22:37.572446Z",
     "shell.execute_reply": "2023-09-28T18:22:37.571479Z"
    },
    "papermill": {
     "duration": 0.33802,
     "end_time": "2023-09-28T18:22:37.575043",
     "exception": false,
     "start_time": "2023-09-28T18:22:37.237023",
     "status": "completed"
    },
    "tags": []
   },
   "outputs": [],
   "source": [
    "from sklearn.preprocessing import StandardScaler\n",
    "from sklearn.model_selection import train_test_split\n",
    "from sklearn.linear_model import LogisticRegression\n",
    "from sklearn.metrics import confusion_matrix, accuracy_score, f1_score, precision_score, recall_score\n",
    "from sklearn.model_selection import cross_val_score\n",
    "from sklearn.model_selection import GridSearchCV"
   ]
  },
  {
   "cell_type": "code",
   "execution_count": 33,
   "id": "2c3487ed",
   "metadata": {
    "execution": {
     "iopub.execute_input": "2023-09-28T18:22:37.613559Z",
     "iopub.status.busy": "2023-09-28T18:22:37.613194Z",
     "iopub.status.idle": "2023-09-28T18:22:37.781451Z",
     "shell.execute_reply": "2023-09-28T18:22:37.780413Z"
    },
    "papermill": {
     "duration": 0.190586,
     "end_time": "2023-09-28T18:22:37.784043",
     "exception": false,
     "start_time": "2023-09-28T18:22:37.593457",
     "status": "completed"
    },
    "tags": []
   },
   "outputs": [
    {
     "data": {
      "text/plain": [
       "(50000, 52)"
      ]
     },
     "execution_count": 33,
     "metadata": {},
     "output_type": "execute_result"
    }
   ],
   "source": [
    "df_load = pd.read_csv(\"/kaggle/working/new_appdata10.csv\")\n",
    "df_load.shape"
   ]
  },
  {
   "cell_type": "code",
   "execution_count": 34,
   "id": "03d30759",
   "metadata": {
    "execution": {
     "iopub.execute_input": "2023-09-28T18:22:37.822514Z",
     "iopub.status.busy": "2023-09-28T18:22:37.821687Z",
     "iopub.status.idle": "2023-09-28T18:22:37.834070Z",
     "shell.execute_reply": "2023-09-28T18:22:37.833223Z"
    },
    "papermill": {
     "duration": 0.033758,
     "end_time": "2023-09-28T18:22:37.836320",
     "exception": false,
     "start_time": "2023-09-28T18:22:37.802562",
     "status": "completed"
    },
    "tags": []
   },
   "outputs": [],
   "source": [
    "response = df_load[\"enrolled\"]\n",
    "df_load = df_load.drop(columns=[\"enrolled\"])"
   ]
  },
  {
   "cell_type": "code",
   "execution_count": 35,
   "id": "3da0cc0e",
   "metadata": {
    "execution": {
     "iopub.execute_input": "2023-09-28T18:22:37.874798Z",
     "iopub.status.busy": "2023-09-28T18:22:37.873961Z",
     "iopub.status.idle": "2023-09-28T18:22:37.901499Z",
     "shell.execute_reply": "2023-09-28T18:22:37.900401Z"
    },
    "papermill": {
     "duration": 0.049466,
     "end_time": "2023-09-28T18:22:37.904368",
     "exception": false,
     "start_time": "2023-09-28T18:22:37.854902",
     "status": "completed"
    },
    "tags": []
   },
   "outputs": [
    {
     "name": "stdout",
     "output_type": "stream",
     "text": [
      "Shape of X_train:  (40000, 51)\n",
      "Shape of y_train:  (40000,)\n",
      "Shape of X_test:  (10000, 51)\n",
      "Shape of y_test:  (10000,)\n"
     ]
    }
   ],
   "source": [
    "X_train, X_test, y_train, y_test = train_test_split(df_load, response,\n",
    "                                                    test_size = 0.2,\n",
    "                                                    random_state = 0)\n",
    "print(\"Shape of X_train: \",X_train.shape)\n",
    "print(\"Shape of y_train: \",y_train.shape)\n",
    "print(\"Shape of X_test: \",X_test.shape)\n",
    "print(\"Shape of y_test: \",y_test.shape)"
   ]
  },
  {
   "cell_type": "code",
   "execution_count": 36,
   "id": "959b31e2",
   "metadata": {
    "execution": {
     "iopub.execute_input": "2023-09-28T18:22:37.943365Z",
     "iopub.status.busy": "2023-09-28T18:22:37.942705Z",
     "iopub.status.idle": "2023-09-28T18:22:37.957679Z",
     "shell.execute_reply": "2023-09-28T18:22:37.956705Z"
    },
    "papermill": {
     "duration": 0.036985,
     "end_time": "2023-09-28T18:22:37.959903",
     "exception": false,
     "start_time": "2023-09-28T18:22:37.922918",
     "status": "completed"
    },
    "tags": []
   },
   "outputs": [],
   "source": [
    "train_identity = X_train['user']\n",
    "X_train = X_train.drop(columns = ['user'])\n",
    "test_identity = X_test['user']\n",
    "X_test = X_test.drop(columns = ['user'])"
   ]
  },
  {
   "cell_type": "code",
   "execution_count": 37,
   "id": "95b74174",
   "metadata": {
    "execution": {
     "iopub.execute_input": "2023-09-28T18:22:37.999485Z",
     "iopub.status.busy": "2023-09-28T18:22:37.998637Z",
     "iopub.status.idle": "2023-09-28T18:22:38.013153Z",
     "shell.execute_reply": "2023-09-28T18:22:38.011897Z"
    },
    "papermill": {
     "duration": 0.036032,
     "end_time": "2023-09-28T18:22:38.015555",
     "exception": false,
     "start_time": "2023-09-28T18:22:37.979523",
     "status": "completed"
    },
    "tags": []
   },
   "outputs": [
    {
     "name": "stdout",
     "output_type": "stream",
     "text": [
      "<class 'pandas.core.frame.DataFrame'>\n",
      "Index: 40000 entries, 20330 to 2732\n",
      "Data columns (total 50 columns):\n",
      " #   Column                   Non-Null Count  Dtype\n",
      "---  ------                   --------------  -----\n",
      " 0   dayofweek                40000 non-null  int64\n",
      " 1   hour                     40000 non-null  int64\n",
      " 2   age                      40000 non-null  int64\n",
      " 3   numscreens               40000 non-null  int64\n",
      " 4   minigame                 40000 non-null  int64\n",
      " 5   used_premium_feature     40000 non-null  int64\n",
      " 6   liked                    40000 non-null  int64\n",
      " 7   location                 40000 non-null  int64\n",
      " 8   Institutions             40000 non-null  int64\n",
      " 9   VerifyPhone              40000 non-null  int64\n",
      " 10  BankVerification         40000 non-null  int64\n",
      " 11  VerifyDateOfBirth        40000 non-null  int64\n",
      " 12  ProfilePage              40000 non-null  int64\n",
      " 13  VerifyCountry            40000 non-null  int64\n",
      " 14  Cycle                    40000 non-null  int64\n",
      " 15  idscreen                 40000 non-null  int64\n",
      " 16  CC1Category              40000 non-null  int64\n",
      " 17  Splash                   40000 non-null  int64\n",
      " 18  CC1                      40000 non-null  int64\n",
      " 19  RewardsContainer         40000 non-null  int64\n",
      " 20  EditProfile              40000 non-null  int64\n",
      " 21  Finances                 40000 non-null  int64\n",
      " 22  CC3                      40000 non-null  int64\n",
      " 23  Alerts                   40000 non-null  int64\n",
      " 24  Leaderboard              40000 non-null  int64\n",
      " 25  VerifyMobile             40000 non-null  int64\n",
      " 26  VerifyHousing            40000 non-null  int64\n",
      " 27  RewardDetail             40000 non-null  int64\n",
      " 28  VerifyHousingAmount      40000 non-null  int64\n",
      " 29  ProfileMaritalStatus     40000 non-null  int64\n",
      " 30  ProfileChildren          40000 non-null  int64\n",
      " 31  ProfileEducation         40000 non-null  int64\n",
      " 32  ProfileEducationMajor    40000 non-null  int64\n",
      " 33  Rewards                  40000 non-null  int64\n",
      " 34  AccountView              40000 non-null  int64\n",
      " 35  VerifyAnnualIncome       40000 non-null  int64\n",
      " 36  VerifyIncomeType         40000 non-null  int64\n",
      " 37  ProfileJobTitle          40000 non-null  int64\n",
      " 38  Login                    40000 non-null  int64\n",
      " 39  ProfileEmploymentLength  40000 non-null  int64\n",
      " 40  WebView                  40000 non-null  int64\n",
      " 41  SecurityModal            40000 non-null  int64\n",
      " 42  ResendToken              40000 non-null  int64\n",
      " 43  TransactionList          40000 non-null  int64\n",
      " 44  NetworkFailure           40000 non-null  int64\n",
      " 45  ListPicker               40000 non-null  int64\n",
      " 46  Other                    40000 non-null  int64\n",
      " 47  SavingCount              40000 non-null  int64\n",
      " 48  CMCount                  40000 non-null  int64\n",
      " 49  LoansCount               40000 non-null  int64\n",
      "dtypes: int64(50)\n",
      "memory usage: 15.6 MB\n"
     ]
    }
   ],
   "source": [
    "X_train.info()"
   ]
  },
  {
   "cell_type": "code",
   "execution_count": 38,
   "id": "80de275b",
   "metadata": {
    "execution": {
     "iopub.execute_input": "2023-09-28T18:22:38.053896Z",
     "iopub.status.busy": "2023-09-28T18:22:38.053587Z",
     "iopub.status.idle": "2023-09-28T18:22:38.094358Z",
     "shell.execute_reply": "2023-09-28T18:22:38.093374Z"
    },
    "papermill": {
     "duration": 0.062732,
     "end_time": "2023-09-28T18:22:38.096808",
     "exception": false,
     "start_time": "2023-09-28T18:22:38.034076",
     "status": "completed"
    },
    "tags": []
   },
   "outputs": [],
   "source": [
    "sc_X = StandardScaler()\n",
    "X_train_new = pd.DataFrame(sc_X.fit_transform(X_train)) #fit_transform return numpy array\n",
    "X_test_new = pd.DataFrame(sc_X.transform(X_test)) #fit_transform lose column name and index\n",
    "X_train_new.columns = X_train.columns.values\n",
    "X_test_new.columns = X_test.columns.values\n",
    "X_train_new.index = X_train.index.values\n",
    "X_test_new.index = X_test.index.values\n",
    "X_train = X_train_new\n",
    "X_test = X_test_new"
   ]
  },
  {
   "cell_type": "code",
   "execution_count": 39,
   "id": "f741bff3",
   "metadata": {
    "execution": {
     "iopub.execute_input": "2023-09-28T18:22:38.136350Z",
     "iopub.status.busy": "2023-09-28T18:22:38.135374Z",
     "iopub.status.idle": "2023-09-28T18:22:38.153278Z",
     "shell.execute_reply": "2023-09-28T18:22:38.152297Z"
    },
    "papermill": {
     "duration": 0.039742,
     "end_time": "2023-09-28T18:22:38.155497",
     "exception": false,
     "start_time": "2023-09-28T18:22:38.115755",
     "status": "completed"
    },
    "tags": []
   },
   "outputs": [
    {
     "data": {
      "text/html": [
       "<div>\n",
       "<style scoped>\n",
       "    .dataframe tbody tr th:only-of-type {\n",
       "        vertical-align: middle;\n",
       "    }\n",
       "\n",
       "    .dataframe tbody tr th {\n",
       "        vertical-align: top;\n",
       "    }\n",
       "\n",
       "    .dataframe thead th {\n",
       "        text-align: right;\n",
       "    }\n",
       "</style>\n",
       "<table border=\"1\" class=\"dataframe\">\n",
       "  <thead>\n",
       "    <tr style=\"text-align: right;\">\n",
       "      <th></th>\n",
       "      <th>dayofweek</th>\n",
       "      <th>hour</th>\n",
       "      <th>age</th>\n",
       "      <th>numscreens</th>\n",
       "      <th>minigame</th>\n",
       "      <th>used_premium_feature</th>\n",
       "      <th>...</th>\n",
       "      <th>NetworkFailure</th>\n",
       "      <th>ListPicker</th>\n",
       "      <th>Other</th>\n",
       "      <th>SavingCount</th>\n",
       "      <th>CMCount</th>\n",
       "      <th>LoansCount</th>\n",
       "    </tr>\n",
       "  </thead>\n",
       "  <tbody>\n",
       "    <tr>\n",
       "      <th>20330</th>\n",
       "      <td>-0.504961</td>\n",
       "      <td>1.000837</td>\n",
       "      <td>0.025525</td>\n",
       "      <td>-1.026726</td>\n",
       "      <td>-0.346830</td>\n",
       "      <td>2.186018</td>\n",
       "      <td>...</td>\n",
       "      <td>-0.091207</td>\n",
       "      <td>-0.087221</td>\n",
       "      <td>-1.147303</td>\n",
       "      <td>-0.260877</td>\n",
       "      <td>-0.763372</td>\n",
       "      <td>1.785389</td>\n",
       "    </tr>\n",
       "    <tr>\n",
       "      <th>17532</th>\n",
       "      <td>-0.997389</td>\n",
       "      <td>1.135280</td>\n",
       "      <td>-0.898034</td>\n",
       "      <td>1.328829</td>\n",
       "      <td>2.883254</td>\n",
       "      <td>-0.457453</td>\n",
       "      <td>...</td>\n",
       "      <td>-0.091207</td>\n",
       "      <td>-0.087221</td>\n",
       "      <td>1.839740</td>\n",
       "      <td>-0.260877</td>\n",
       "      <td>0.057524</td>\n",
       "      <td>0.309800</td>\n",
       "    </tr>\n",
       "    <tr>\n",
       "      <th>45819</th>\n",
       "      <td>-1.489818</td>\n",
       "      <td>-1.150250</td>\n",
       "      <td>-0.528611</td>\n",
       "      <td>4.066366</td>\n",
       "      <td>2.883254</td>\n",
       "      <td>-0.457453</td>\n",
       "      <td>...</td>\n",
       "      <td>-0.091207</td>\n",
       "      <td>-0.087221</td>\n",
       "      <td>1.025092</td>\n",
       "      <td>-0.260877</td>\n",
       "      <td>0.878421</td>\n",
       "      <td>1.785389</td>\n",
       "    </tr>\n",
       "    <tr>\n",
       "      <th>34807</th>\n",
       "      <td>0.479896</td>\n",
       "      <td>0.059736</td>\n",
       "      <td>-0.620967</td>\n",
       "      <td>0.182883</td>\n",
       "      <td>2.883254</td>\n",
       "      <td>-0.457453</td>\n",
       "      <td>...</td>\n",
       "      <td>-0.091207</td>\n",
       "      <td>-0.087221</td>\n",
       "      <td>1.025092</td>\n",
       "      <td>-0.260877</td>\n",
       "      <td>-0.763372</td>\n",
       "      <td>0.309800</td>\n",
       "    </tr>\n",
       "    <tr>\n",
       "      <th>31888</th>\n",
       "      <td>-0.012532</td>\n",
       "      <td>0.463065</td>\n",
       "      <td>1.687932</td>\n",
       "      <td>-0.644744</td>\n",
       "      <td>-0.346830</td>\n",
       "      <td>-0.457453</td>\n",
       "      <td>...</td>\n",
       "      <td>-0.091207</td>\n",
       "      <td>-0.087221</td>\n",
       "      <td>-0.875753</td>\n",
       "      <td>-0.260877</td>\n",
       "      <td>0.878421</td>\n",
       "      <td>-1.165789</td>\n",
       "    </tr>\n",
       "  </tbody>\n",
       "</table>\n",
       "<p>5 rows × 50 columns</p>\n",
       "</div>"
      ],
      "text/plain": [
       "       dayofweek      hour       age  numscreens  minigame  used_premium_feature  ...  NetworkFailure  ListPicker     Other  SavingCount   CMCount  LoansCount\n",
       "20330  -0.504961  1.000837  0.025525   -1.026726 -0.346830              2.186018  ...       -0.091207   -0.087221 -1.147303    -0.260877 -0.763372    1.785389\n",
       "17532  -0.997389  1.135280 -0.898034    1.328829  2.883254             -0.457453  ...       -0.091207   -0.087221  1.839740    -0.260877  0.057524    0.309800\n",
       "45819  -1.489818 -1.150250 -0.528611    4.066366  2.883254             -0.457453  ...       -0.091207   -0.087221  1.025092    -0.260877  0.878421    1.785389\n",
       "34807   0.479896  0.059736 -0.620967    0.182883  2.883254             -0.457453  ...       -0.091207   -0.087221  1.025092    -0.260877 -0.763372    0.309800\n",
       "31888  -0.012532  0.463065  1.687932   -0.644744 -0.346830             -0.457453  ...       -0.091207   -0.087221 -0.875753    -0.260877  0.878421   -1.165789\n",
       "\n",
       "[5 rows x 50 columns]"
      ]
     },
     "execution_count": 39,
     "metadata": {},
     "output_type": "execute_result"
    }
   ],
   "source": [
    "X_train.head()"
   ]
  },
  {
   "cell_type": "code",
   "execution_count": 40,
   "id": "3cafce20",
   "metadata": {
    "execution": {
     "iopub.execute_input": "2023-09-28T18:22:38.194680Z",
     "iopub.status.busy": "2023-09-28T18:22:38.193849Z",
     "iopub.status.idle": "2023-09-28T18:22:38.390031Z",
     "shell.execute_reply": "2023-09-28T18:22:38.389110Z"
    },
    "papermill": {
     "duration": 0.21882,
     "end_time": "2023-09-28T18:22:38.393168",
     "exception": false,
     "start_time": "2023-09-28T18:22:38.174348",
     "status": "completed"
    },
    "tags": []
   },
   "outputs": [
    {
     "data": {
      "text/html": [
       "<style>#sk-container-id-1 {color: black;background-color: white;}#sk-container-id-1 pre{padding: 0;}#sk-container-id-1 div.sk-toggleable {background-color: white;}#sk-container-id-1 label.sk-toggleable__label {cursor: pointer;display: block;width: 100%;margin-bottom: 0;padding: 0.3em;box-sizing: border-box;text-align: center;}#sk-container-id-1 label.sk-toggleable__label-arrow:before {content: \"▸\";float: left;margin-right: 0.25em;color: #696969;}#sk-container-id-1 label.sk-toggleable__label-arrow:hover:before {color: black;}#sk-container-id-1 div.sk-estimator:hover label.sk-toggleable__label-arrow:before {color: black;}#sk-container-id-1 div.sk-toggleable__content {max-height: 0;max-width: 0;overflow: hidden;text-align: left;background-color: #f0f8ff;}#sk-container-id-1 div.sk-toggleable__content pre {margin: 0.2em;color: black;border-radius: 0.25em;background-color: #f0f8ff;}#sk-container-id-1 input.sk-toggleable__control:checked~div.sk-toggleable__content {max-height: 200px;max-width: 100%;overflow: auto;}#sk-container-id-1 input.sk-toggleable__control:checked~label.sk-toggleable__label-arrow:before {content: \"▾\";}#sk-container-id-1 div.sk-estimator input.sk-toggleable__control:checked~label.sk-toggleable__label {background-color: #d4ebff;}#sk-container-id-1 div.sk-label input.sk-toggleable__control:checked~label.sk-toggleable__label {background-color: #d4ebff;}#sk-container-id-1 input.sk-hidden--visually {border: 0;clip: rect(1px 1px 1px 1px);clip: rect(1px, 1px, 1px, 1px);height: 1px;margin: -1px;overflow: hidden;padding: 0;position: absolute;width: 1px;}#sk-container-id-1 div.sk-estimator {font-family: monospace;background-color: #f0f8ff;border: 1px dotted black;border-radius: 0.25em;box-sizing: border-box;margin-bottom: 0.5em;}#sk-container-id-1 div.sk-estimator:hover {background-color: #d4ebff;}#sk-container-id-1 div.sk-parallel-item::after {content: \"\";width: 100%;border-bottom: 1px solid gray;flex-grow: 1;}#sk-container-id-1 div.sk-label:hover label.sk-toggleable__label {background-color: #d4ebff;}#sk-container-id-1 div.sk-serial::before {content: \"\";position: absolute;border-left: 1px solid gray;box-sizing: border-box;top: 0;bottom: 0;left: 50%;z-index: 0;}#sk-container-id-1 div.sk-serial {display: flex;flex-direction: column;align-items: center;background-color: white;padding-right: 0.2em;padding-left: 0.2em;position: relative;}#sk-container-id-1 div.sk-item {position: relative;z-index: 1;}#sk-container-id-1 div.sk-parallel {display: flex;align-items: stretch;justify-content: center;background-color: white;position: relative;}#sk-container-id-1 div.sk-item::before, #sk-container-id-1 div.sk-parallel-item::before {content: \"\";position: absolute;border-left: 1px solid gray;box-sizing: border-box;top: 0;bottom: 0;left: 50%;z-index: -1;}#sk-container-id-1 div.sk-parallel-item {display: flex;flex-direction: column;z-index: 1;position: relative;background-color: white;}#sk-container-id-1 div.sk-parallel-item:first-child::after {align-self: flex-end;width: 50%;}#sk-container-id-1 div.sk-parallel-item:last-child::after {align-self: flex-start;width: 50%;}#sk-container-id-1 div.sk-parallel-item:only-child::after {width: 0;}#sk-container-id-1 div.sk-dashed-wrapped {border: 1px dashed gray;margin: 0 0.4em 0.5em 0.4em;box-sizing: border-box;padding-bottom: 0.4em;background-color: white;}#sk-container-id-1 div.sk-label label {font-family: monospace;font-weight: bold;display: inline-block;line-height: 1.2em;}#sk-container-id-1 div.sk-label-container {text-align: center;}#sk-container-id-1 div.sk-container {/* jupyter's `normalize.less` sets `[hidden] { display: none; }` but bootstrap.min.css set `[hidden] { display: none !important; }` so we also need the `!important` here to be able to override the default hidden behavior on the sphinx rendered scikit-learn.org. See: https://github.com/scikit-learn/scikit-learn/issues/21755 */display: inline-block !important;position: relative;}#sk-container-id-1 div.sk-text-repr-fallback {display: none;}</style><div id=\"sk-container-id-1\" class=\"sk-top-container\"><div class=\"sk-text-repr-fallback\"><pre>LogisticRegression(random_state=0)</pre><b>In a Jupyter environment, please rerun this cell to show the HTML representation or trust the notebook. <br />On GitHub, the HTML representation is unable to render, please try loading this page with nbviewer.org.</b></div><div class=\"sk-container\" hidden><div class=\"sk-item\"><div class=\"sk-estimator sk-toggleable\"><input class=\"sk-toggleable__control sk-hidden--visually\" id=\"sk-estimator-id-1\" type=\"checkbox\" checked><label for=\"sk-estimator-id-1\" class=\"sk-toggleable__label sk-toggleable__label-arrow\">LogisticRegression</label><div class=\"sk-toggleable__content\"><pre>LogisticRegression(random_state=0)</pre></div></div></div></div></div>"
      ],
      "text/plain": [
       "LogisticRegression(random_state=0)"
      ]
     },
     "execution_count": 40,
     "metadata": {},
     "output_type": "execute_result"
    }
   ],
   "source": [
    "classifier = LogisticRegression(random_state = 0, penalty = 'l2')\n",
    "classifier.fit(X_train, y_train)"
   ]
  },
  {
   "cell_type": "code",
   "execution_count": 41,
   "id": "efc8cb9a",
   "metadata": {
    "execution": {
     "iopub.execute_input": "2023-09-28T18:22:38.484453Z",
     "iopub.status.busy": "2023-09-28T18:22:38.483820Z",
     "iopub.status.idle": "2023-09-28T18:22:38.497110Z",
     "shell.execute_reply": "2023-09-28T18:22:38.495949Z"
    },
    "papermill": {
     "duration": 0.059304,
     "end_time": "2023-09-28T18:22:38.500655",
     "exception": false,
     "start_time": "2023-09-28T18:22:38.441351",
     "status": "completed"
    },
    "tags": []
   },
   "outputs": [
    {
     "data": {
      "text/plain": [
       "array([1, 1, 0, ..., 0, 1, 1])"
      ]
     },
     "execution_count": 41,
     "metadata": {},
     "output_type": "execute_result"
    }
   ],
   "source": [
    "y_pred = classifier.predict(X_test)\n",
    "y_pred"
   ]
  },
  {
   "cell_type": "code",
   "execution_count": 42,
   "id": "69de46d4",
   "metadata": {
    "execution": {
     "iopub.execute_input": "2023-09-28T18:22:38.588455Z",
     "iopub.status.busy": "2023-09-28T18:22:38.587829Z",
     "iopub.status.idle": "2023-09-28T18:22:38.611612Z",
     "shell.execute_reply": "2023-09-28T18:22:38.610649Z"
    },
    "papermill": {
     "duration": 0.070229,
     "end_time": "2023-09-28T18:22:38.614830",
     "exception": false,
     "start_time": "2023-09-28T18:22:38.544601",
     "status": "completed"
    },
    "tags": []
   },
   "outputs": [
    {
     "data": {
      "text/html": [
       "<div>\n",
       "<style scoped>\n",
       "    .dataframe tbody tr th:only-of-type {\n",
       "        vertical-align: middle;\n",
       "    }\n",
       "\n",
       "    .dataframe tbody tr th {\n",
       "        vertical-align: top;\n",
       "    }\n",
       "\n",
       "    .dataframe thead th {\n",
       "        text-align: right;\n",
       "    }\n",
       "</style>\n",
       "<table border=\"1\" class=\"dataframe\">\n",
       "  <thead>\n",
       "    <tr style=\"text-align: right;\">\n",
       "      <th></th>\n",
       "      <th>user</th>\n",
       "      <th>enrolled</th>\n",
       "      <th>predicted_results</th>\n",
       "    </tr>\n",
       "  </thead>\n",
       "  <tbody>\n",
       "    <tr>\n",
       "      <th>0</th>\n",
       "      <td>239786</td>\n",
       "      <td>1</td>\n",
       "      <td>1</td>\n",
       "    </tr>\n",
       "    <tr>\n",
       "      <th>1</th>\n",
       "      <td>279644</td>\n",
       "      <td>1</td>\n",
       "      <td>1</td>\n",
       "    </tr>\n",
       "    <tr>\n",
       "      <th>2</th>\n",
       "      <td>98290</td>\n",
       "      <td>0</td>\n",
       "      <td>0</td>\n",
       "    </tr>\n",
       "    <tr>\n",
       "      <th>3</th>\n",
       "      <td>170150</td>\n",
       "      <td>1</td>\n",
       "      <td>1</td>\n",
       "    </tr>\n",
       "    <tr>\n",
       "      <th>4</th>\n",
       "      <td>237568</td>\n",
       "      <td>1</td>\n",
       "      <td>1</td>\n",
       "    </tr>\n",
       "    <tr>\n",
       "      <th>...</th>\n",
       "      <td>...</td>\n",
       "      <td>...</td>\n",
       "      <td>...</td>\n",
       "    </tr>\n",
       "    <tr>\n",
       "      <th>9995</th>\n",
       "      <td>143036</td>\n",
       "      <td>1</td>\n",
       "      <td>0</td>\n",
       "    </tr>\n",
       "    <tr>\n",
       "      <th>9996</th>\n",
       "      <td>91158</td>\n",
       "      <td>1</td>\n",
       "      <td>1</td>\n",
       "    </tr>\n",
       "    <tr>\n",
       "      <th>9997</th>\n",
       "      <td>248318</td>\n",
       "      <td>0</td>\n",
       "      <td>0</td>\n",
       "    </tr>\n",
       "    <tr>\n",
       "      <th>9998</th>\n",
       "      <td>142418</td>\n",
       "      <td>1</td>\n",
       "      <td>1</td>\n",
       "    </tr>\n",
       "    <tr>\n",
       "      <th>9999</th>\n",
       "      <td>279355</td>\n",
       "      <td>1</td>\n",
       "      <td>1</td>\n",
       "    </tr>\n",
       "  </tbody>\n",
       "</table>\n",
       "<p>10000 rows × 3 columns</p>\n",
       "</div>"
      ],
      "text/plain": [
       "        user  enrolled  predicted_results\n",
       "0     239786         1                  1\n",
       "1     279644         1                  1\n",
       "2      98290         0                  0\n",
       "3     170150         1                  1\n",
       "4     237568         1                  1\n",
       "...      ...       ...                ...\n",
       "9995  143036         1                  0\n",
       "9996   91158         1                  1\n",
       "9997  248318         0                  0\n",
       "9998  142418         1                  1\n",
       "9999  279355         1                  1\n",
       "\n",
       "[10000 rows x 3 columns]"
      ]
     },
     "execution_count": 42,
     "metadata": {},
     "output_type": "execute_result"
    }
   ],
   "source": [
    "final_results = pd.concat([y_test, test_identity], axis = 1).dropna()\n",
    "final_results['predicted_results'] = y_pred\n",
    "final_results[['user', 'enrolled', 'predicted_results']].reset_index(drop=True)"
   ]
  },
  {
   "cell_type": "code",
   "execution_count": 43,
   "id": "b7140934",
   "metadata": {
    "execution": {
     "iopub.execute_input": "2023-09-28T18:22:38.661713Z",
     "iopub.status.busy": "2023-09-28T18:22:38.661376Z",
     "iopub.status.idle": "2023-09-28T18:22:38.687782Z",
     "shell.execute_reply": "2023-09-28T18:22:38.686662Z"
    },
    "papermill": {
     "duration": 0.049747,
     "end_time": "2023-09-28T18:22:38.690034",
     "exception": false,
     "start_time": "2023-09-28T18:22:38.640287",
     "status": "completed"
    },
    "tags": []
   },
   "outputs": [
    {
     "name": "stdout",
     "output_type": "stream",
     "text": [
      "accuracy_socre:  76.88000000000001 %\n",
      "precision_score:  76.16173808086904 %\n",
      "recall_score:  77.06085894565439 %\n",
      "f1_score:  76.60866046135168 %\n"
     ]
    }
   ],
   "source": [
    "cm = confusion_matrix(y_test, y_pred)\n",
    "print(\"accuracy_socre: \",accuracy_score(y_test, y_pred)*100,'%' )\n",
    "print(\"precision_score: \",precision_score(y_test, y_pred)*100,'%') \n",
    "print(\"recall_score: \",recall_score(y_test, y_pred)*100,'%') \n",
    "print(\"f1_score: \",f1_score(y_test, y_pred)*100,'%')"
   ]
  },
  {
   "cell_type": "code",
   "execution_count": 44,
   "id": "75a6f48e",
   "metadata": {
    "execution": {
     "iopub.execute_input": "2023-09-28T18:22:38.730592Z",
     "iopub.status.busy": "2023-09-28T18:22:38.730277Z",
     "iopub.status.idle": "2023-09-28T18:22:39.042583Z",
     "shell.execute_reply": "2023-09-28T18:22:39.041665Z"
    },
    "papermill": {
     "duration": 0.334996,
     "end_time": "2023-09-28T18:22:39.044787",
     "exception": false,
     "start_time": "2023-09-28T18:22:38.709791",
     "status": "completed"
    },
    "tags": []
   },
   "outputs": [
    {
     "name": "stdout",
     "output_type": "stream",
     "text": [
      "Test Data Accuracy: 0.7688\n"
     ]
    },
    {
     "data": {
      "image/png": "[encoded data removed]",
      "text/plain": [
       "<Figure size 600x400 with 2 Axes>"
      ]
     },
     "metadata": {},
     "output_type": "display_data"
    }
   ],
   "source": [
    "df_cm = pd.DataFrame(cm, index = (0, 1), columns = (0, 1))\n",
    "plt.figure(figsize = (6, 4))\n",
    "sn.set(font_scale=1.2)\n",
    "sn.heatmap(df_cm, annot=True, fmt='g')\n",
    "print(\"Test Data Accuracy: %0.4f\" % accuracy_score(y_test, y_pred))"
   ]
  },
  {
   "cell_type": "code",
   "execution_count": 45,
   "id": "b686035e",
   "metadata": {
    "execution": {
     "iopub.execute_input": "2023-09-28T18:22:39.086118Z",
     "iopub.status.busy": "2023-09-28T18:22:39.085508Z",
     "iopub.status.idle": "2023-09-28T18:22:41.027569Z",
     "shell.execute_reply": "2023-09-28T18:22:41.026236Z"
    },
    "papermill": {
     "duration": 1.965454,
     "end_time": "2023-09-28T18:22:41.030142",
     "exception": false,
     "start_time": "2023-09-28T18:22:39.064688",
     "status": "completed"
    },
    "tags": []
   },
   "outputs": [],
   "source": [
    "accuracies = cross_val_score(estimator= classifier, X= X_train, y = y_train, cv = 10)"
   ]
  },
  {
   "cell_type": "code",
   "execution_count": 46,
   "id": "bc674efa",
   "metadata": {
    "execution": {
     "iopub.execute_input": "2023-09-28T18:22:41.126421Z",
     "iopub.status.busy": "2023-09-28T18:22:41.125699Z",
     "iopub.status.idle": "2023-09-28T18:22:41.132972Z",
     "shell.execute_reply": "2023-09-28T18:22:41.131596Z"
    },
    "papermill": {
     "duration": 0.060528,
     "end_time": "2023-09-28T18:22:41.136078",
     "exception": false,
     "start_time": "2023-09-28T18:22:41.075550",
     "status": "completed"
    },
    "tags": []
   },
   "outputs": [
    {
     "name": "stdout",
     "output_type": "stream",
     "text": [
      "Cross Validation Accuracy: 0.768 (+/- 0.009)\n"
     ]
    }
   ],
   "source": [
    "print(\"Cross Validation Accuracy: %0.3f (+/- %0.3f)\" % (accuracies.mean(), accuracies.std() * 2))"
   ]
  }
 ],
 "metadata": {
  "kernelspec": {
   "display_name": "Python 3",
   "language": "python",
   "name": "python3"
  },
  "language_info": {
   "codemirror_mode": {
    "name": "ipython",
    "version": 3
   },
   "file_extension": ".py",
   "mimetype": "text/x-python",
   "name": "python",
   "nbconvert_exporter": "python",
   "pygments_lexer": "ipython3",
   "version": "3.10.12"
  },
  "papermill": {
   "default_parameters": {},
   "duration": 28.338509,
   "end_time": "2023-09-28T18:22:41.685749",
   "environment_variables": {},
   "exception": null,
   "input_path": "__notebook__.ipynb",
   "output_path": "__notebook__.ipynb",
   "parameters": {},
   "start_time": "2023-09-28T18:22:13.347240",
   "version": "2.4.0"
  }
 },
 "nbformat": 4,
 "nbformat_minor": 5
}
